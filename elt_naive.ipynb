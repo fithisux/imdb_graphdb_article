{
 "cells": [
  {
   "cell_type": "markdown",
   "id": "5a885654-178b-48b6-963f-8406b2d629fd",
   "metadata": {},
   "source": [
    "We install here the required dependencies"
   ]
  },
  {
   "cell_type": "code",
   "execution_count": 1,
   "id": "452d403f-a92d-43aa-9e46-b2e4306e7304",
   "metadata": {},
   "outputs": [
    {
     "name": "stdout",
     "output_type": "stream",
     "text": [
      "Requirement already satisfied: kuzu in c:\\winoss\\python311\\lib\\site-packages (0.3.2)\n"
     ]
    }
   ],
   "source": [
    "!pip install kuzu"
   ]
  },
  {
   "cell_type": "code",
   "execution_count": 6,
   "id": "76d20366-e6dd-449e-b6d5-487dedb28d71",
   "metadata": {},
   "outputs": [],
   "source": [
    "import kuzu\n",
    "\n",
    "db = kuzu.Database('./kuzudb_elt')\n",
    "conn = kuzu.Connection(db)"
   ]
  },
  {
   "cell_type": "markdown",
   "id": "f0b5810d-bdcf-4e87-baae-115b23fae03f",
   "metadata": {},
   "source": [
    "Let's drop the old edges and then nodes (if they exist)"
   ]
  },
  {
   "cell_type": "code",
   "execution_count": 7,
   "id": "45c681d0-d593-4b91-a7d8-05c0a8bec979",
   "metadata": {},
   "outputs": [],
   "source": [
    "SHOW_EDGE_TABLES = \"\"\"\n",
    "CALL SHOW_TABLES() WHERE type='REL' RETURN *;\n",
    "\"\"\"\n",
    "result_set = conn.execute(SHOW_EDGE_TABLES)\n",
    "while result_set.has_next():\n",
    "    table_name = result_set.get_next()[0]\n",
    "    print(f\"DROPPING {table_name}\")\n",
    "    conn.execute(f\"DROP TABLE {table_name};\")\n",
    "\n",
    "result_set.close()\n",
    "\n",
    "SHOW_NODE_TABLES = \"\"\"\n",
    "CALL SHOW_TABLES() WHERE type='NODE' RETURN *;\n",
    "\"\"\"\n",
    "result_set = conn.execute(SHOW_NODE_TABLES)\n",
    "while result_set.has_next():\n",
    "    table_name = result_set.get_next()[0]\n",
    "    print(f\"DROPPING {table_name}\")\n",
    "    conn.execute(f\"DROP TABLE {table_name};\")\n",
    "\n",
    "result_set.close()"
   ]
  },
  {
   "cell_type": "markdown",
   "id": "22aa0b5d-4754-4742-b665-663148942f27",
   "metadata": {},
   "source": [
    "Now we load the data"
   ]
  },
  {
   "cell_type": "code",
   "execution_count": 8,
   "id": "bf3ce293-1cc1-4c37-9106-5907825baf94",
   "metadata": {},
   "outputs": [
    {
     "name": "stdout",
     "output_type": "stream",
     "text": [
      "Executing statement CREATE NODE TABLE REGION_CODE(name STRING, alpha2 STRING, PRIMARY KEY (alpha2));\n",
      "\n",
      "Executing statement CREATE NODE TABLE LANGUAGE_CODE(alpha2 STRING, English STRING, PRIMARY KEY (alpha2));\n",
      "\n",
      "Executing statement CREATE NODE TABLE GENRE(genre STRING, PRIMARY KEY (genre));\n",
      "\n",
      "Executing statement CREATE NODE TABLE DISTRIBUTION_TYPE(distribution_type STRING, PRIMARY KEY (distribution_type));\n",
      "\n",
      "Executing statement CREATE NODE TABLE JOB_CATEGORY(category STRING, PRIMARY KEY (category));\n",
      "\n",
      "Executing statement CREATE NODE TABLE TITLE_TYPE(title_type STRING, PRIMARY KEY (title_type));\n",
      "\n",
      "Executing statement CREATE NODE TABLE ATTRIBUTES(attribute STRING, PRIMARY KEY (attribute));\n",
      "\n",
      "Executing statement CREATE NODE TABLE CHARACTERS(somecharacter STRING, PRIMARY KEY (somecharacter));\n",
      "\n",
      "Executing statement CREATE NODE TABLE PRIMARYPROFESSION(profession STRING, PRIMARY KEY (profession));\n",
      "\n",
      "Executing statement CREATE NODE TABLE NAME_BASICS(nconst STRING, primaryName STRING, birthYear INT32, deathYear INT32, PRIMARY KEY (nconst));\n",
      "\n",
      "Executing statement CREATE NODE TABLE TITLE_AKAS(ID STRING, ordering INT32, title STRING, isOriginalTitle BOOLEAN, PRIMARY KEY (ID));\n",
      "\n",
      "Executing statement CREATE NODE TABLE TITLE_BASICS(tconst STRING, primaryTitle STRING, originalTitle STRING, isAdult boolean, startYear INT32, endYear INT32 ,runtimeMinutes INT32, PRIMARY KEY (tconst));\n",
      "\n",
      "Executing statement CREATE NODE TABLE TITLE_EPISODE(epitconst STRING, seasonNumber INT32, episodeNumber INT32, PRIMARY KEY (epitconst));\n",
      "\n",
      "Executing statement CREATE NODE TABLE TITLE_PRINCIPALS(ID STRING, ordering INT32, job STRING, PRIMARY KEY (ID));\n",
      "\n",
      "Executing statement CREATE NODE TABLE TITLE_RATINGS(tconst STRING, averageRating DOUBLE, numVotes INT32, PRIMARY KEY (tconst));\n",
      "Executing statement COPY REGION_CODE FROM \"./seeds/region_codes.csv\"\n",
      "\n",
      "Executing statement COPY LANGUAGE_CODE FROM \"./seeds/language_codes.csv\"\n",
      "\n",
      "Executing statement COPY DISTRIBUTION_TYPE FROM \"./seeds/distribution_types.csv\"\n",
      "\n",
      "Executing statement COPY GENRE FROM \"./export_elt/genre_node.parquet\"\n",
      "\n",
      "Executing statement COPY JOB_CATEGORY FROM \"./export_elt/job_category_node.parquet\"\n",
      "\n",
      "Executing statement COPY TITLE_TYPE FROM \"./export_elt/title_type_node.parquet\"\n",
      "\n",
      "Executing statement COPY ATTRIBUTES FROM \"./export_elt/attributes_node.parquet\"\n",
      "\n",
      "Executing statement COPY CHARACTERS FROM \"./export_elt/characters_node.parquet\"\n",
      "\n",
      "Executing statement COPY PRIMARYPROFESSION FROM \"./export_elt/primaryprofession_node.parquet\"\n",
      "\n",
      "Executing statement COPY NAME_BASICS FROM \"export_elt/name_basics_node.parquet\"\n",
      "\n",
      "Executing statement COPY TITLE_AKAS FROM \"export_elt/title_akas_cleansed_node.parquet\"\n",
      "\n",
      "Executing statement COPY TITLE_BASICS FROM \"export_elt/title_basics_node.parquet\"\n",
      "\n",
      "Executing statement COPY TITLE_EPISODE FROM \"export_elt/title_episode_node.parquet\"\n",
      "\n",
      "Executing statement COPY TITLE_PRINCIPALS FROM \"export_elt/title_principals_cleansed_node.parquet\"\n",
      "\n",
      "Executing statement COPY TITLE_RATINGS FROM \"export_elt/title_ratings_node.parquet\"\n"
     ]
    }
   ],
   "source": [
    "with open('elt_kuzudb_node_schema.sql') as f:\n",
    "    creation_lines = [line for line in f]\n",
    "\n",
    "with open('elt_kuzudb_node_import.sql') as f:\n",
    "    import_lines = [line for line in f]\n",
    "    \n",
    "\n",
    "#do not forget the primary keys for seeds\n",
    "\n",
    "    \n",
    "for line in creation_lines:\n",
    "    print(f\"Executing statement {line}\")\n",
    "    conn.execute(line)\n",
    "\n",
    "for line in import_lines:\n",
    "    print(f\"Executing statement {line}\")\n",
    "    conn.execute(line)"
   ]
  },
  {
   "cell_type": "markdown",
   "id": "e45b6919-9c52-4313-bd17-880da51c91f9",
   "metadata": {},
   "source": [
    "Let's create some relationships."
   ]
  },
  {
   "cell_type": "code",
   "execution_count": 9,
   "id": "f5ffe483-6d78-40ef-b278-3568445bde6c",
   "metadata": {},
   "outputs": [
    {
     "name": "stdout",
     "output_type": "stream",
     "text": [
      "Executing statement CREATE REL TABLE HAS_ATTRIBUTE(FROM TITLE_AKAS TO ATTRIBUTES);\n",
      "\n",
      "Executing statement CREATE REL TABLE HAS_CHARACTER(FROM TITLE_PRINCIPALS TO CHARACTERS);\n",
      "\n",
      "Executing statement CREATE REL TABLE HAS_DIRECTOR(FROM TITLE_BASICS TO NAME_BASICS);\n",
      "\n",
      "Executing statement CREATE REL TABLE HAS_DISTRIBUTION(FROM TITLE_AKAS TO DISTRIBUTION_TYPE);\n",
      "\n",
      "Executing statement CREATE REL TABLE HAS_LANGUAGE(FROM TITLE_AKAS TO LANGUAGE_CODE);\n",
      "\n",
      "Executing statement CREATE REL TABLE HAS_GENRE(FROM TITLE_BASICS TO GENRE);\n",
      "\n",
      "Executing statement CREATE REL TABLE HAS_JOBCATEGORY(FROM TITLE_PRINCIPALS TO JOB_CATEGORY);\n",
      "\n",
      "Executing statement CREATE REL TABLE IS_KNOWNFOR(FROM NAME_BASICS TO TITLE_BASICS);\n",
      "\n",
      "Executing statement CREATE REL TABLE HAS_NAME(FROM TITLE_PRINCIPALS TO NAME_BASICS);\n",
      "\n",
      "Executing statement CREATE REL TABLE IS_ORIGINALLY(FROM TITLE_AKAS TO TITLE_BASICS);\n",
      "\n",
      "Executing statement CREATE REL TABLE HAS_PARENT(FROM TITLE_EPISODE TO TITLE_BASICS);\n",
      "\n",
      "Executing statement CREATE REL TABLE HAS_PRIMARYPROFESSION(FROM NAME_BASICS TO PRIMARYPROFESSION);\n",
      "\n",
      "Executing statement CREATE REL TABLE HAS_RATE(FROM TITLE_RATINGS TO TITLE_BASICS);\n",
      "\n",
      "Executing statement CREATE REL TABLE HAS_REGION(FROM TITLE_AKAS TO REGION_CODE);\n",
      "\n",
      "Executing statement CREATE REL TABLE IS_TITLE(FROM TITLE_EPISODE TO TITLE_BASICS);\n",
      "\n",
      "Executing statement CREATE REL TABLE HAS_TYPE(FROM TITLE_BASICS TO TITLE_TYPE);\n",
      "\n",
      "Executing statement CREATE REL TABLE WORKS_FOR(FROM TITLE_PRINCIPALS TO TITLE_BASICS);\n",
      "\n",
      "Executing statement CREATE REL TABLE HAS_WRITER(FROM TITLE_BASICS TO NAME_BASICS);\n",
      "Executing statement COPY HAS_ATTRIBUTE FROM \"export_elt/attributes_edge.parquet\"\n",
      "\n",
      "Executing statement COPY HAS_CHARACTER FROM \"export_elt/characters_edge.parquet\"\n",
      "\n",
      "Executing statement COPY HAS_DIRECTOR FROM \"export_elt/directors_edge.parquet\"\n",
      "\n",
      "Executing statement COPY HAS_DISTRIBUTION FROM \"export_elt/distribution_types_edge.parquet\"\n",
      "\n",
      "Executing statement COPY HAS_LANGUAGE FROM \"export_elt/language_edge.parquet\"\n",
      "\n",
      "Executing statement COPY HAS_GENRE FROM \"export_elt/genre_edge.parquet\"\n",
      "\n",
      "Executing statement COPY HAS_JOBCATEGORY FROM \"export_elt/job_category_edge.parquet\"\n",
      "\n",
      "Executing statement COPY IS_KNOWNFOR FROM \"export_elt/knownfor_edge.parquet\"\n",
      "\n",
      "Executing statement COPY HAS_NAME FROM \"export_elt/name_edge.parquet\"\n",
      "\n",
      "Executing statement COPY IS_ORIGINALLY FROM \"export_elt/original_title_edge.parquet\"\n",
      "\n",
      "Executing statement COPY HAS_PARENT FROM \"export_elt/parent_title_edge.parquet\"\n",
      "\n",
      "Executing statement COPY HAS_PRIMARYPROFESSION FROM \"export_elt/primaryprofession_edge.parquet\"\n",
      "\n",
      "Executing statement COPY HAS_RATE FROM \"export_elt/rate_edge.parquet\"\n",
      "\n",
      "Executing statement COPY HAS_REGION FROM \"export_elt/region_edge.parquet\"\n",
      "\n",
      "Executing statement COPY IS_TITLE FROM \"export_elt/title_edge.parquet\"\n",
      "\n",
      "Executing statement COPY HAS_TYPE FROM \"export_elt/title_type_edge.parquet\"\n",
      "\n",
      "Executing statement COPY WORKS_FOR FROM \"export_elt/works_edge.parquet\"\n",
      "\n",
      "Executing statement COPY HAS_WRITER FROM \"export_elt/writers_edge.parquet\"\n"
     ]
    }
   ],
   "source": [
    "with open('elt_kuzudb_rel_schema.sql') as f:\n",
    "    creation_lines = [line for line in f]\n",
    "\n",
    "with open('elt_kuzudb_rel_import.sql') as f:\n",
    "    import_lines = [line for line in f]\n",
    "    \n",
    "\n",
    "#do not forget the primary keys for seeds\n",
    "\n",
    "    \n",
    "for line in creation_lines:\n",
    "    print(f\"Executing statement {line}\")\n",
    "    conn.execute(line)\n",
    "\n",
    "for line in import_lines:\n",
    "    print(f\"Executing statement {line}\")\n",
    "    conn.execute(line)"
   ]
  },
  {
   "cell_type": "markdown",
   "id": "67b47d56-106f-42d3-90a4-de72db376fbc",
   "metadata": {},
   "source": [
    "Now we populate them"
   ]
  }
 ],
 "metadata": {
  "kernelspec": {
   "display_name": "Python 3 (ipykernel)",
   "language": "python",
   "name": "python3"
  },
  "language_info": {
   "codemirror_mode": {
    "name": "ipython",
    "version": 3
   },
   "file_extension": ".py",
   "mimetype": "text/x-python",
   "name": "python",
   "nbconvert_exporter": "python",
   "pygments_lexer": "ipython3",
   "version": "3.11.8"
  }
 },
 "nbformat": 4,
 "nbformat_minor": 5
}
