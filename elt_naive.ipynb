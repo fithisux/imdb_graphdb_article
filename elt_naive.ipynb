{
 "cells": [
  {
   "cell_type": "markdown",
   "id": "9bd4ddbc-b8c4-44dc-9d96-1134b857e092",
   "metadata": {},
   "source": [
    "We make sure the export statements are generated through the dbt project. Just scan edge/node files."
   ]
  },
  {
   "cell_type": "code",
   "execution_count": 1,
   "id": "c0f1d7c5-907f-4989-a6ab-4aaa0d0def7e",
   "metadata": {},
   "outputs": [
    {
     "name": "stdout",
     "output_type": "stream",
     "text": [
      "USE main;\n",
      "COPY (SELECT * FROM main_imdb_kuzu.attributes_edge) TO 'C:/work/imdb_graphdb_article/export_elt/attributes_edge.parquet' (FORMAT PARQUET);\n",
      "COPY (SELECT * FROM main_imdb_kuzu.attributes_node) TO 'C:/work/imdb_graphdb_article/export_elt/attributes_node.parquet' (FORMAT PARQUET);\n",
      "COPY (SELECT * FROM main_imdb_kuzu.characters_edge) TO 'C:/work/imdb_graphdb_article/export_elt/characters_edge.parquet' (FORMAT PARQUET);\n",
      "COPY (SELECT * FROM main_imdb_kuzu.characters_node) TO 'C:/work/imdb_graphdb_article/export_elt/characters_node.parquet' (FORMAT PARQUET);\n",
      "COPY (SELECT * FROM main_imdb_kuzu.directors_edge) TO 'C:/work/imdb_graphdb_article/export_elt/directors_edge.parquet' (FORMAT PARQUET);\n",
      "COPY (SELECT * FROM main_imdb_kuzu.distribution_types_edge) TO 'C:/work/imdb_graphdb_article/export_elt/distribution_types_edge.parquet' (FORMAT PARQUET);\n",
      "COPY (SELECT * FROM main_imdb_kuzu.genre_edge) TO 'C:/work/imdb_graphdb_article/export_elt/genre_edge.parquet' (FORMAT PARQUET);\n",
      "COPY (SELECT * FROM main_imdb_kuzu.genre_node) TO 'C:/work/imdb_graphdb_article/export_elt/genre_node.parquet' (FORMAT PARQUET);\n",
      "COPY (SELECT * FROM main_imdb_kuzu.job_category_edge) TO 'C:/work/imdb_graphdb_article/export_elt/job_category_edge.parquet' (FORMAT PARQUET);\n",
      "COPY (SELECT * FROM main_imdb_kuzu.job_category_node) TO 'C:/work/imdb_graphdb_article/export_elt/job_category_node.parquet' (FORMAT PARQUET);\n",
      "COPY (SELECT * FROM main_imdb_kuzu.knownfor_edge) TO 'C:/work/imdb_graphdb_article/export_elt/knownfor_edge.parquet' (FORMAT PARQUET);\n",
      "COPY (SELECT * FROM main_imdb_kuzu.language_edge) TO 'C:/work/imdb_graphdb_article/export_elt/language_edge.parquet' (FORMAT PARQUET);\n",
      "COPY (SELECT * FROM main_imdb_kuzu.name_basics_node) TO 'C:/work/imdb_graphdb_article/export_elt/name_basics_node.parquet' (FORMAT PARQUET);\n",
      "COPY (SELECT * FROM main_imdb_kuzu.name_edge) TO 'C:/work/imdb_graphdb_article/export_elt/name_edge.parquet' (FORMAT PARQUET);\n",
      "COPY (SELECT * FROM main_imdb_kuzu.original_title_edge) TO 'C:/work/imdb_graphdb_article/export_elt/original_title_edge.parquet' (FORMAT PARQUET);\n",
      "COPY (SELECT * FROM main_imdb_kuzu.parent_title_edge) TO 'C:/work/imdb_graphdb_article/export_elt/parent_title_edge.parquet' (FORMAT PARQUET);\n",
      "COPY (SELECT * FROM main_imdb_kuzu.primaryprofession_edge) TO 'C:/work/imdb_graphdb_article/export_elt/primaryprofession_edge.parquet' (FORMAT PARQUET);\n",
      "COPY (SELECT * FROM main_imdb_kuzu.primaryprofession_node) TO 'C:/work/imdb_graphdb_article/export_elt/primaryprofession_node.parquet' (FORMAT PARQUET);\n",
      "COPY (SELECT * FROM main_imdb_kuzu.rate_edge) TO 'C:/work/imdb_graphdb_article/export_elt/rate_edge.parquet' (FORMAT PARQUET);\n",
      "COPY (SELECT * FROM main_imdb_kuzu.region_edge) TO 'C:/work/imdb_graphdb_article/export_elt/region_edge.parquet' (FORMAT PARQUET);\n",
      "COPY (SELECT * FROM main_imdb_kuzu.title_akas_cleansed_node) TO 'C:/work/imdb_graphdb_article/export_elt/title_akas_cleansed_node.parquet' (FORMAT PARQUET);\n",
      "COPY (SELECT * FROM main_imdb_kuzu.title_basics_node) TO 'C:/work/imdb_graphdb_article/export_elt/title_basics_node.parquet' (FORMAT PARQUET);\n",
      "COPY (SELECT * FROM main_imdb_kuzu.title_edge) TO 'C:/work/imdb_graphdb_article/export_elt/title_edge.parquet' (FORMAT PARQUET);\n",
      "COPY (SELECT * FROM main_imdb_kuzu.title_episode_node) TO 'C:/work/imdb_graphdb_article/export_elt/title_episode_node.parquet' (FORMAT PARQUET);\n",
      "COPY (SELECT * FROM main_imdb_kuzu.title_principals_cleansed_node) TO 'C:/work/imdb_graphdb_article/export_elt/title_principals_cleansed_node.parquet' (FORMAT PARQUET);\n",
      "COPY (SELECT * FROM main_imdb_kuzu.title_ratings_node) TO 'C:/work/imdb_graphdb_article/export_elt/title_ratings_node.parquet' (FORMAT PARQUET);\n",
      "COPY (SELECT * FROM main_imdb_kuzu.title_type_edge) TO 'C:/work/imdb_graphdb_article/export_elt/title_type_edge.parquet' (FORMAT PARQUET);\n",
      "COPY (SELECT * FROM main_imdb_kuzu.title_type_node) TO 'C:/work/imdb_graphdb_article/export_elt/title_type_node.parquet' (FORMAT PARQUET);\n",
      "COPY (SELECT * FROM main_imdb_kuzu.works_edge) TO 'C:/work/imdb_graphdb_article/export_elt/works_edge.parquet' (FORMAT PARQUET);\n",
      "COPY (SELECT * FROM main_imdb_kuzu.writers_edge) TO 'C:/work/imdb_graphdb_article/export_elt/writers_edge.parquet' (FORMAT PARQUET);\n"
     ]
    }
   ],
   "source": [
    "import pathlib\n",
    "\n",
    "WHERE_IS_DBT_PROJECT = \"../imdb_dataset_article/models/imdb_kuzu/*.sql\"\n",
    "\n",
    "files = [f.name.split('.')[0] for f in pathlib.Path().glob(WHERE_IS_DBT_PROJECT)]\n",
    "\n",
    "WHERE_TO_EXPORT_PARQUET_FILES = 'C:/work/imdb_graphdb_article/export_elt'\n",
    "\n",
    "use_statement = \"USE main;\"\n",
    "\n",
    "sql_statements = [use_statement]\n",
    "for filename in files:\n",
    "    export_statement = f\"COPY (SELECT * FROM main_imdb_kuzu.{filename}) TO '{WHERE_TO_EXPORT_PARQUET_FILES}/{filename}.parquet' (FORMAT PARQUET);\"\n",
    "    sql_statements.append(export_statement)\n",
    "\n",
    "print(\"\\n\".join(sql_statements))"
   ]
  },
  {
   "cell_type": "code",
   "execution_count": 3,
   "id": "fb858e88-bea1-464c-b061-49ae1019eda8",
   "metadata": {},
   "outputs": [
    {
     "name": "stdout",
     "output_type": "stream",
     "text": [
      "Requirement already satisfied: duckdb in c:\\winoss\\python312\\lib\\site-packages (0.10.1)\n"
     ]
    }
   ],
   "source": [
    "!pip install duckdb"
   ]
  },
  {
   "cell_type": "markdown",
   "id": "e1454524-5708-4c65-a784-40eaafafd1e3",
   "metadata": {},
   "source": [
    "We export to parquet node/edge tables"
   ]
  },
  {
   "cell_type": "code",
   "execution_count": 3,
   "id": "b22a27c6-99a9-4a3a-96d4-891bf43322ba",
   "metadata": {},
   "outputs": [
    {
     "name": "stdout",
     "output_type": "stream",
     "text": [
      "SQL statement is USE main;\n",
      "SQL statement is COPY (SELECT * FROM main_imdb_kuzu.attributes_edge) TO 'C:/work/imdb_graphdb_article/export_elt/attributes_edge.parquet' (FORMAT PARQUET);\n"
     ]
    },
    {
     "data": {
      "application/vnd.jupyter.widget-view+json": {
       "model_id": "64f674bb98654c8ba4d7c365753ae315",
       "version_major": 2,
       "version_minor": 0
      },
      "text/plain": [
       "FloatProgress(value=0.0, layout=Layout(width='auto'), style=ProgressStyle(bar_color='black'))"
      ]
     },
     "metadata": {},
     "output_type": "display_data"
    },
    {
     "name": "stdout",
     "output_type": "stream",
     "text": [
      "SQL statement is COPY (SELECT * FROM main_imdb_kuzu.attributes_node) TO 'C:/work/imdb_graphdb_article/export_elt/attributes_node.parquet' (FORMAT PARQUET);\n",
      "SQL statement is COPY (SELECT * FROM main_imdb_kuzu.characters_edge) TO 'C:/work/imdb_graphdb_article/export_elt/characters_edge.parquet' (FORMAT PARQUET);\n"
     ]
    },
    {
     "data": {
      "application/vnd.jupyter.widget-view+json": {
       "model_id": "ae9fb5a67b3547c49e55c7771e4744e6",
       "version_major": 2,
       "version_minor": 0
      },
      "text/plain": [
       "FloatProgress(value=0.0, layout=Layout(width='auto'), style=ProgressStyle(bar_color='black'))"
      ]
     },
     "metadata": {},
     "output_type": "display_data"
    },
    {
     "name": "stdout",
     "output_type": "stream",
     "text": [
      "SQL statement is COPY (SELECT * FROM main_imdb_kuzu.characters_node) TO 'C:/work/imdb_graphdb_article/export_elt/characters_node.parquet' (FORMAT PARQUET);\n"
     ]
    },
    {
     "data": {
      "application/vnd.jupyter.widget-view+json": {
       "model_id": "d83a4bfac11e4e129ac93de41ffff173",
       "version_major": 2,
       "version_minor": 0
      },
      "text/plain": [
       "FloatProgress(value=0.0, layout=Layout(width='auto'), style=ProgressStyle(bar_color='black'))"
      ]
     },
     "metadata": {},
     "output_type": "display_data"
    },
    {
     "name": "stdout",
     "output_type": "stream",
     "text": [
      "SQL statement is COPY (SELECT * FROM main_imdb_kuzu.directors_edge) TO 'C:/work/imdb_graphdb_article/export_elt/directors_edge.parquet' (FORMAT PARQUET);\n",
      "SQL statement is COPY (SELECT * FROM main_imdb_kuzu.distribution_types_edge) TO 'C:/work/imdb_graphdb_article/export_elt/distribution_types_edge.parquet' (FORMAT PARQUET);\n"
     ]
    },
    {
     "data": {
      "application/vnd.jupyter.widget-view+json": {
       "model_id": "7116f250fcb94dfcb72c28af2d5e463c",
       "version_major": 2,
       "version_minor": 0
      },
      "text/plain": [
       "FloatProgress(value=0.0, layout=Layout(width='auto'), style=ProgressStyle(bar_color='black'))"
      ]
     },
     "metadata": {},
     "output_type": "display_data"
    },
    {
     "name": "stdout",
     "output_type": "stream",
     "text": [
      "SQL statement is COPY (SELECT * FROM main_imdb_kuzu.genre_edge) TO 'C:/work/imdb_graphdb_article/export_elt/genre_edge.parquet' (FORMAT PARQUET);\n"
     ]
    },
    {
     "data": {
      "application/vnd.jupyter.widget-view+json": {
       "model_id": "0ad495648d8749bba01a06af98fb6ea9",
       "version_major": 2,
       "version_minor": 0
      },
      "text/plain": [
       "FloatProgress(value=0.0, layout=Layout(width='auto'), style=ProgressStyle(bar_color='black'))"
      ]
     },
     "metadata": {},
     "output_type": "display_data"
    },
    {
     "name": "stdout",
     "output_type": "stream",
     "text": [
      "SQL statement is COPY (SELECT * FROM main_imdb_kuzu.genre_node) TO 'C:/work/imdb_graphdb_article/export_elt/genre_node.parquet' (FORMAT PARQUET);\n"
     ]
    },
    {
     "data": {
      "application/vnd.jupyter.widget-view+json": {
       "model_id": "c25ca625689f43719bd23f5442aaa17c",
       "version_major": 2,
       "version_minor": 0
      },
      "text/plain": [
       "FloatProgress(value=0.0, layout=Layout(width='auto'), style=ProgressStyle(bar_color='black'))"
      ]
     },
     "metadata": {},
     "output_type": "display_data"
    },
    {
     "name": "stdout",
     "output_type": "stream",
     "text": [
      "SQL statement is COPY (SELECT * FROM main_imdb_kuzu.job_category_edge) TO 'C:/work/imdb_graphdb_article/export_elt/job_category_edge.parquet' (FORMAT PARQUET);\n"
     ]
    },
    {
     "data": {
      "application/vnd.jupyter.widget-view+json": {
       "model_id": "7c24647880164d82aabd6a3ff1f79e32",
       "version_major": 2,
       "version_minor": 0
      },
      "text/plain": [
       "FloatProgress(value=0.0, layout=Layout(width='auto'), style=ProgressStyle(bar_color='black'))"
      ]
     },
     "metadata": {},
     "output_type": "display_data"
    },
    {
     "name": "stdout",
     "output_type": "stream",
     "text": [
      "SQL statement is COPY (SELECT * FROM main_imdb_kuzu.job_category_node) TO 'C:/work/imdb_graphdb_article/export_elt/job_category_node.parquet' (FORMAT PARQUET);\n",
      "SQL statement is COPY (SELECT * FROM main_imdb_kuzu.knownfor_edge) TO 'C:/work/imdb_graphdb_article/export_elt/knownfor_edge.parquet' (FORMAT PARQUET);\n",
      "SQL statement is COPY (SELECT * FROM main_imdb_kuzu.language_edge) TO 'C:/work/imdb_graphdb_article/export_elt/language_edge.parquet' (FORMAT PARQUET);\n"
     ]
    },
    {
     "data": {
      "application/vnd.jupyter.widget-view+json": {
       "model_id": "a9d29c2d4472414fa1ec21d02df1959e",
       "version_major": 2,
       "version_minor": 0
      },
      "text/plain": [
       "FloatProgress(value=0.0, layout=Layout(width='auto'), style=ProgressStyle(bar_color='black'))"
      ]
     },
     "metadata": {},
     "output_type": "display_data"
    },
    {
     "name": "stdout",
     "output_type": "stream",
     "text": [
      "SQL statement is COPY (SELECT * FROM main_imdb_kuzu.name_basics_node) TO 'C:/work/imdb_graphdb_article/export_elt/name_basics_node.parquet' (FORMAT PARQUET);\n",
      "SQL statement is COPY (SELECT * FROM main_imdb_kuzu.name_edge) TO 'C:/work/imdb_graphdb_article/export_elt/name_edge.parquet' (FORMAT PARQUET);\n"
     ]
    },
    {
     "data": {
      "application/vnd.jupyter.widget-view+json": {
       "model_id": "f32095002f4a46cf97a82b4fee300a7d",
       "version_major": 2,
       "version_minor": 0
      },
      "text/plain": [
       "FloatProgress(value=0.0, layout=Layout(width='auto'), style=ProgressStyle(bar_color='black'))"
      ]
     },
     "metadata": {},
     "output_type": "display_data"
    },
    {
     "name": "stdout",
     "output_type": "stream",
     "text": [
      "SQL statement is COPY (SELECT * FROM main_imdb_kuzu.original_title_edge) TO 'C:/work/imdb_graphdb_article/export_elt/original_title_edge.parquet' (FORMAT PARQUET);\n"
     ]
    },
    {
     "data": {
      "application/vnd.jupyter.widget-view+json": {
       "model_id": "8889930c53f64116ad4cc3fb6ddaa297",
       "version_major": 2,
       "version_minor": 0
      },
      "text/plain": [
       "FloatProgress(value=0.0, layout=Layout(width='auto'), style=ProgressStyle(bar_color='black'))"
      ]
     },
     "metadata": {},
     "output_type": "display_data"
    },
    {
     "name": "stdout",
     "output_type": "stream",
     "text": [
      "SQL statement is COPY (SELECT * FROM main_imdb_kuzu.parent_title_edge) TO 'C:/work/imdb_graphdb_article/export_elt/parent_title_edge.parquet' (FORMAT PARQUET);\n",
      "SQL statement is COPY (SELECT * FROM main_imdb_kuzu.primaryprofession_edge) TO 'C:/work/imdb_graphdb_article/export_elt/primaryprofession_edge.parquet' (FORMAT PARQUET);\n",
      "SQL statement is COPY (SELECT * FROM main_imdb_kuzu.primaryprofession_node) TO 'C:/work/imdb_graphdb_article/export_elt/primaryprofession_node.parquet' (FORMAT PARQUET);\n",
      "SQL statement is COPY (SELECT * FROM main_imdb_kuzu.rate_edge) TO 'C:/work/imdb_graphdb_article/export_elt/rate_edge.parquet' (FORMAT PARQUET);\n",
      "SQL statement is COPY (SELECT * FROM main_imdb_kuzu.region_edge) TO 'C:/work/imdb_graphdb_article/export_elt/region_edge.parquet' (FORMAT PARQUET);\n"
     ]
    },
    {
     "data": {
      "application/vnd.jupyter.widget-view+json": {
       "model_id": "971be7b085674533a3e67507a0bd8ec2",
       "version_major": 2,
       "version_minor": 0
      },
      "text/plain": [
       "FloatProgress(value=0.0, layout=Layout(width='auto'), style=ProgressStyle(bar_color='black'))"
      ]
     },
     "metadata": {},
     "output_type": "display_data"
    },
    {
     "name": "stdout",
     "output_type": "stream",
     "text": [
      "SQL statement is COPY (SELECT * FROM main_imdb_kuzu.title_akas_cleansed_node) TO 'C:/work/imdb_graphdb_article/export_elt/title_akas_cleansed_node.parquet' (FORMAT PARQUET);\n"
     ]
    },
    {
     "data": {
      "application/vnd.jupyter.widget-view+json": {
       "model_id": "354aa6128f384a148c00d22298deed33",
       "version_major": 2,
       "version_minor": 0
      },
      "text/plain": [
       "FloatProgress(value=0.0, layout=Layout(width='auto'), style=ProgressStyle(bar_color='black'))"
      ]
     },
     "metadata": {},
     "output_type": "display_data"
    },
    {
     "name": "stdout",
     "output_type": "stream",
     "text": [
      "SQL statement is COPY (SELECT * FROM main_imdb_kuzu.title_basics_node) TO 'C:/work/imdb_graphdb_article/export_elt/title_basics_node.parquet' (FORMAT PARQUET);\n"
     ]
    },
    {
     "data": {
      "application/vnd.jupyter.widget-view+json": {
       "model_id": "2d414d5fa5ad49c38b276e83a4f893d4",
       "version_major": 2,
       "version_minor": 0
      },
      "text/plain": [
       "FloatProgress(value=0.0, layout=Layout(width='auto'), style=ProgressStyle(bar_color='black'))"
      ]
     },
     "metadata": {},
     "output_type": "display_data"
    },
    {
     "name": "stdout",
     "output_type": "stream",
     "text": [
      "SQL statement is COPY (SELECT * FROM main_imdb_kuzu.title_edge) TO 'C:/work/imdb_graphdb_article/export_elt/title_edge.parquet' (FORMAT PARQUET);\n"
     ]
    },
    {
     "data": {
      "application/vnd.jupyter.widget-view+json": {
       "model_id": "6104dcae4ee94b3f8db840fef8971831",
       "version_major": 2,
       "version_minor": 0
      },
      "text/plain": [
       "FloatProgress(value=0.0, layout=Layout(width='auto'), style=ProgressStyle(bar_color='black'))"
      ]
     },
     "metadata": {},
     "output_type": "display_data"
    },
    {
     "name": "stdout",
     "output_type": "stream",
     "text": [
      "SQL statement is COPY (SELECT * FROM main_imdb_kuzu.title_episode_node) TO 'C:/work/imdb_graphdb_article/export_elt/title_episode_node.parquet' (FORMAT PARQUET);\n",
      "SQL statement is COPY (SELECT * FROM main_imdb_kuzu.title_principals_cleansed_node) TO 'C:/work/imdb_graphdb_article/export_elt/title_principals_cleansed_node.parquet' (FORMAT PARQUET);\n"
     ]
    },
    {
     "data": {
      "application/vnd.jupyter.widget-view+json": {
       "model_id": "6592b9e613cb44e48daefefe1a407e04",
       "version_major": 2,
       "version_minor": 0
      },
      "text/plain": [
       "FloatProgress(value=0.0, layout=Layout(width='auto'), style=ProgressStyle(bar_color='black'))"
      ]
     },
     "metadata": {},
     "output_type": "display_data"
    },
    {
     "name": "stdout",
     "output_type": "stream",
     "text": [
      "SQL statement is COPY (SELECT * FROM main_imdb_kuzu.title_ratings_node) TO 'C:/work/imdb_graphdb_article/export_elt/title_ratings_node.parquet' (FORMAT PARQUET);\n",
      "SQL statement is COPY (SELECT * FROM main_imdb_kuzu.title_type_edge) TO 'C:/work/imdb_graphdb_article/export_elt/title_type_edge.parquet' (FORMAT PARQUET);\n",
      "SQL statement is COPY (SELECT * FROM main_imdb_kuzu.title_type_node) TO 'C:/work/imdb_graphdb_article/export_elt/title_type_node.parquet' (FORMAT PARQUET);\n",
      "SQL statement is COPY (SELECT * FROM main_imdb_kuzu.works_edge) TO 'C:/work/imdb_graphdb_article/export_elt/works_edge.parquet' (FORMAT PARQUET);\n"
     ]
    },
    {
     "data": {
      "application/vnd.jupyter.widget-view+json": {
       "model_id": "18939ef4a60d492b860f55733b94dcdd",
       "version_major": 2,
       "version_minor": 0
      },
      "text/plain": [
       "FloatProgress(value=0.0, layout=Layout(width='auto'), style=ProgressStyle(bar_color='black'))"
      ]
     },
     "metadata": {},
     "output_type": "display_data"
    },
    {
     "name": "stdout",
     "output_type": "stream",
     "text": [
      "SQL statement is COPY (SELECT * FROM main_imdb_kuzu.writers_edge) TO 'C:/work/imdb_graphdb_article/export_elt/writers_edge.parquet' (FORMAT PARQUET);\n"
     ]
    }
   ],
   "source": [
    "import duckdb\n",
    "con = duckdb.connect(\"C:/work/imdb_dataset_article/database_files/dev.duckdb\")\n",
    "\n",
    "p = pathlib.Path('export_elt')\n",
    "p.mkdir(exist_ok=True)\n",
    "\n",
    "for parquet_file in p.glob('*.parquet'):\n",
    "    print(parquet_file)\n",
    "    parquet_file.unlink()\n",
    "\n",
    "for sql_statement in sql_statements:\n",
    "    print(f\"SQL statement is {sql_statement}\")\n",
    "    con.sql(sql_statement)"
   ]
  },
  {
   "cell_type": "markdown",
   "id": "5a885654-178b-48b6-963f-8406b2d629fd",
   "metadata": {},
   "source": [
    "We install here the required dependencies"
   ]
  },
  {
   "cell_type": "code",
   "execution_count": 1,
   "id": "452d403f-a92d-43aa-9e46-b2e4306e7304",
   "metadata": {},
   "outputs": [
    {
     "name": "stdout",
     "output_type": "stream",
     "text": [
      "Requirement already satisfied: kuzu in c:\\winoss\\python312\\lib\\site-packages (0.3.2)\n"
     ]
    }
   ],
   "source": [
    "!pip install kuzu"
   ]
  },
  {
   "cell_type": "code",
   "execution_count": 2,
   "id": "76d20366-e6dd-449e-b6d5-487dedb28d71",
   "metadata": {},
   "outputs": [],
   "source": [
    "import kuzu\n",
    "\n",
    "db = kuzu.Database('./kuzudb_elt')\n",
    "conn = kuzu.Connection(db)"
   ]
  },
  {
   "cell_type": "markdown",
   "id": "f0b5810d-bdcf-4e87-baae-115b23fae03f",
   "metadata": {},
   "source": [
    "Let's drop the old edges and then nodes (if they exist)"
   ]
  },
  {
   "cell_type": "code",
   "execution_count": 3,
   "id": "45c681d0-d593-4b91-a7d8-05c0a8bec979",
   "metadata": {},
   "outputs": [],
   "source": [
    "SHOW_EDGE_TABLES = \"\"\"\n",
    "CALL SHOW_TABLES() WHERE type='REL' RETURN *;\n",
    "\"\"\"\n",
    "result_set = conn.execute(SHOW_EDGE_TABLES)\n",
    "while result_set.has_next():\n",
    "    table_name = result_set.get_next()[0]\n",
    "    print(f\"DROPPING {table_name}\")\n",
    "    conn.execute(f\"DROP TABLE {table_name};\")\n",
    "\n",
    "result_set.close()\n",
    "\n",
    "SHOW_NODE_TABLES = \"\"\"\n",
    "CALL SHOW_TABLES() WHERE type='NODE' RETURN *;\n",
    "\"\"\"\n",
    "result_set = conn.execute(SHOW_NODE_TABLES)\n",
    "while result_set.has_next():\n",
    "    table_name = result_set.get_next()[0]\n",
    "    print(f\"DROPPING {table_name}\")\n",
    "    conn.execute(f\"DROP TABLE {table_name};\")\n",
    "\n",
    "result_set.close()"
   ]
  },
  {
   "cell_type": "markdown",
   "id": "22aa0b5d-4754-4742-b665-663148942f27",
   "metadata": {},
   "source": [
    "Now we load the data"
   ]
  },
  {
   "cell_type": "code",
   "execution_count": 4,
   "id": "bf3ce293-1cc1-4c37-9106-5907825baf94",
   "metadata": {},
   "outputs": [
    {
     "name": "stdout",
     "output_type": "stream",
     "text": [
      "Executing statement CREATE NODE TABLE REGION_CODE(name STRING, alpha2 STRING, PRIMARY KEY (alpha2));\n",
      "\n",
      "Executing statement CREATE NODE TABLE LANGUAGE_CODE(alpha2 STRING, English STRING, PRIMARY KEY (alpha2));\n",
      "\n",
      "Executing statement CREATE NODE TABLE GENRE(genre STRING, PRIMARY KEY (genre));\n",
      "\n",
      "Executing statement CREATE NODE TABLE DISTRIBUTION_TYPE(distribution_type STRING, PRIMARY KEY (distribution_type));\n",
      "\n",
      "Executing statement CREATE NODE TABLE JOB_CATEGORY(category STRING, PRIMARY KEY (category));\n",
      "\n",
      "Executing statement CREATE NODE TABLE TITLE_TYPE(title_type STRING, PRIMARY KEY (title_type));\n",
      "\n",
      "Executing statement CREATE NODE TABLE ATTRIBUTES(attribute STRING, PRIMARY KEY (attribute));\n",
      "\n",
      "Executing statement CREATE NODE TABLE CHARACTERS(somecharacter STRING, PRIMARY KEY (somecharacter));\n",
      "\n",
      "Executing statement CREATE NODE TABLE PRIMARYPROFESSION(profession STRING, PRIMARY KEY (profession));\n",
      "\n",
      "Executing statement CREATE NODE TABLE NAME_BASICS(nconst STRING, primaryName STRING, birthYear INT32, deathYear INT32, PRIMARY KEY (nconst));\n",
      "\n",
      "Executing statement CREATE NODE TABLE TITLE_AKAS(ID STRING, ordering INT32, title STRING, isOriginalTitle BOOLEAN, PRIMARY KEY (ID));\n",
      "\n",
      "Executing statement CREATE NODE TABLE TITLE_BASICS(tconst STRING, primaryTitle STRING, originalTitle STRING, isAdult boolean, startYear INT32, endYear INT32 ,runtimeMinutes INT32, PRIMARY KEY (tconst));\n",
      "\n",
      "Executing statement CREATE NODE TABLE TITLE_EPISODE(epitconst STRING, seasonNumber INT32, episodeNumber INT32, PRIMARY KEY (epitconst));\n",
      "\n",
      "Executing statement CREATE NODE TABLE TITLE_PRINCIPALS(ID STRING, ordering INT32, job STRING, PRIMARY KEY (ID));\n",
      "\n",
      "Executing statement CREATE NODE TABLE TITLE_RATINGS(tconst STRING, averageRating DOUBLE, numVotes INT32, PRIMARY KEY (tconst));\n",
      "Executing statement COPY REGION_CODE FROM \"./seeds/region_codes.csv\"\n",
      "\n",
      "Executing statement COPY LANGUAGE_CODE FROM \"./seeds/language_codes.csv\"\n",
      "\n",
      "Executing statement COPY DISTRIBUTION_TYPE FROM \"./seeds/distribution_types.csv\"\n",
      "\n",
      "Executing statement COPY GENRE FROM \"./export_elt/genre_node.parquet\"\n",
      "\n",
      "Executing statement COPY JOB_CATEGORY FROM \"./export_elt/job_category_node.parquet\"\n",
      "\n",
      "Executing statement COPY TITLE_TYPE FROM \"./export_elt/title_type_node.parquet\"\n",
      "\n",
      "Executing statement COPY ATTRIBUTES FROM \"./export_elt/attributes_node.parquet\"\n",
      "\n",
      "Executing statement COPY CHARACTERS FROM \"./export_elt/characters_node.parquet\"\n",
      "\n",
      "Executing statement COPY PRIMARYPROFESSION FROM \"./export_elt/primaryprofession_node.parquet\"\n",
      "\n",
      "Executing statement COPY NAME_BASICS FROM \"export_elt/name_basics_node.parquet\"\n",
      "\n",
      "Executing statement COPY TITLE_AKAS FROM \"export_elt/title_akas_cleansed_node.parquet\"\n",
      "\n",
      "Executing statement COPY TITLE_BASICS FROM \"export_elt/title_basics_node.parquet\"\n",
      "\n",
      "Executing statement COPY TITLE_EPISODE FROM \"export_elt/title_episode_node.parquet\"\n",
      "\n",
      "Executing statement COPY TITLE_PRINCIPALS FROM \"export_elt/title_principals_cleansed_node.parquet\"\n",
      "\n",
      "Executing statement COPY TITLE_RATINGS FROM \"export_elt/title_ratings_node.parquet\"\n"
     ]
    }
   ],
   "source": [
    "with open('elt_kuzudb_node_schema.sql') as f:\n",
    "    creation_lines = [line for line in f]\n",
    "\n",
    "with open('elt_kuzudb_node_import.sql') as f:\n",
    "    import_lines = [line for line in f]\n",
    "    \n",
    "\n",
    "#do not forget the primary keys for seeds\n",
    "\n",
    "    \n",
    "for line in creation_lines:\n",
    "    print(f\"Executing statement {line}\")\n",
    "    conn.execute(line)\n",
    "\n",
    "for line in import_lines:\n",
    "    print(f\"Executing statement {line}\")\n",
    "    conn.execute(line)"
   ]
  },
  {
   "cell_type": "markdown",
   "id": "e45b6919-9c52-4313-bd17-880da51c91f9",
   "metadata": {},
   "source": [
    "Let's create some relationships."
   ]
  },
  {
   "cell_type": "code",
   "execution_count": 5,
   "id": "f5ffe483-6d78-40ef-b278-3568445bde6c",
   "metadata": {},
   "outputs": [
    {
     "name": "stdout",
     "output_type": "stream",
     "text": [
      "Executing statement CREATE REL TABLE HAS_ATTRIBUTE(FROM TITLE_AKAS TO ATTRIBUTES);\n",
      "\n",
      "Executing statement CREATE REL TABLE HAS_CHARACTER(FROM TITLE_PRINCIPALS TO CHARACTERS);\n",
      "\n",
      "Executing statement CREATE REL TABLE HAS_DIRECTOR(FROM TITLE_BASICS TO NAME_BASICS);\n",
      "\n",
      "Executing statement CREATE REL TABLE HAS_DISTRIBUTION(FROM TITLE_AKAS TO DISTRIBUTION_TYPE);\n",
      "\n",
      "Executing statement CREATE REL TABLE HAS_LANGUAGE(FROM TITLE_AKAS TO LANGUAGE_CODE);\n",
      "\n",
      "Executing statement CREATE REL TABLE HAS_GENRE(FROM TITLE_BASICS TO GENRE);\n",
      "\n",
      "Executing statement CREATE REL TABLE HAS_JOBCATEGORY(FROM TITLE_PRINCIPALS TO JOB_CATEGORY);\n",
      "\n",
      "Executing statement CREATE REL TABLE IS_KNOWNFOR(FROM NAME_BASICS TO TITLE_BASICS);\n",
      "\n",
      "Executing statement CREATE REL TABLE HAS_NAME(FROM TITLE_PRINCIPALS TO NAME_BASICS);\n",
      "\n",
      "Executing statement CREATE REL TABLE IS_ORIGINALLY(FROM TITLE_AKAS TO TITLE_BASICS);\n",
      "\n",
      "Executing statement CREATE REL TABLE HAS_PARENT(FROM TITLE_EPISODE TO TITLE_BASICS);\n",
      "\n",
      "Executing statement CREATE REL TABLE HAS_PRIMARYPROFESSION(FROM NAME_BASICS TO PRIMARYPROFESSION);\n",
      "\n",
      "Executing statement CREATE REL TABLE HAS_RATE(FROM TITLE_RATINGS TO TITLE_BASICS);\n",
      "\n",
      "Executing statement CREATE REL TABLE HAS_REGION(FROM TITLE_AKAS TO REGION_CODE);\n",
      "\n",
      "Executing statement CREATE REL TABLE IS_TITLE(FROM TITLE_EPISODE TO TITLE_BASICS);\n",
      "\n",
      "Executing statement CREATE REL TABLE HAS_TYPE(FROM TITLE_BASICS TO TITLE_TYPE);\n",
      "\n",
      "Executing statement CREATE REL TABLE WORKS_FOR(FROM TITLE_PRINCIPALS TO TITLE_BASICS);\n",
      "\n",
      "Executing statement CREATE REL TABLE HAS_WRITER(FROM TITLE_BASICS TO NAME_BASICS);\n",
      "Executing statement COPY HAS_ATTRIBUTE FROM \"export_elt/attributes_edge.parquet\"\n",
      "\n",
      "Executing statement COPY HAS_CHARACTER FROM \"export_elt/characters_edge.parquet\"\n",
      "\n",
      "Executing statement COPY HAS_DIRECTOR FROM \"export_elt/directors_edge.parquet\"\n",
      "\n",
      "Executing statement COPY HAS_DISTRIBUTION FROM \"export_elt/distribution_types_edge.parquet\"\n",
      "\n",
      "Executing statement COPY HAS_LANGUAGE FROM \"export_elt/language_edge.parquet\"\n",
      "\n",
      "Executing statement COPY HAS_GENRE FROM \"export_elt/genre_edge.parquet\"\n",
      "\n",
      "Executing statement COPY HAS_JOBCATEGORY FROM \"export_elt/job_category_edge.parquet\"\n",
      "\n",
      "Executing statement COPY IS_KNOWNFOR FROM \"export_elt/knownfor_edge.parquet\"\n",
      "\n",
      "Executing statement COPY HAS_NAME FROM \"export_elt/name_edge.parquet\"\n",
      "\n",
      "Executing statement COPY IS_ORIGINALLY FROM \"export_elt/original_title_edge.parquet\"\n",
      "\n",
      "Executing statement COPY HAS_PARENT FROM \"export_elt/parent_title_edge.parquet\"\n",
      "\n",
      "Executing statement COPY HAS_PRIMARYPROFESSION FROM \"export_elt/primaryprofession_edge.parquet\"\n",
      "\n",
      "Executing statement COPY HAS_RATE FROM \"export_elt/rate_edge.parquet\"\n",
      "\n",
      "Executing statement COPY HAS_REGION FROM \"export_elt/region_edge.parquet\"\n",
      "\n",
      "Executing statement COPY IS_TITLE FROM \"export_elt/title_edge.parquet\"\n",
      "\n",
      "Executing statement COPY HAS_TYPE FROM \"export_elt/title_type_edge.parquet\"\n",
      "\n",
      "Executing statement COPY WORKS_FOR FROM \"export_elt/works_edge.parquet\"\n",
      "\n",
      "Executing statement COPY HAS_WRITER FROM \"export_elt/writers_edge.parquet\"\n"
     ]
    }
   ],
   "source": [
    "with open('elt_kuzudb_rel_schema.sql') as f:\n",
    "    creation_lines = [line for line in f]\n",
    "\n",
    "with open('elt_kuzudb_rel_import.sql') as f:\n",
    "    import_lines = [line for line in f]\n",
    "    \n",
    "\n",
    "#do not forget the primary keys for seeds\n",
    "\n",
    "    \n",
    "for line in creation_lines:\n",
    "    print(f\"Executing statement {line}\")\n",
    "    conn.execute(line)\n",
    "\n",
    "for line in import_lines:\n",
    "    print(f\"Executing statement {line}\")\n",
    "    conn.execute(line)"
   ]
  },
  {
   "cell_type": "markdown",
   "id": "67b47d56-106f-42d3-90a4-de72db376fbc",
   "metadata": {},
   "source": [
    "Now we populate them"
   ]
  }
 ],
 "metadata": {
  "kernelspec": {
   "display_name": "Python 3 (ipykernel)",
   "language": "python",
   "name": "python3"
  },
  "language_info": {
   "codemirror_mode": {
    "name": "ipython",
    "version": 3
   },
   "file_extension": ".py",
   "mimetype": "text/x-python",
   "name": "python",
   "nbconvert_exporter": "python",
   "pygments_lexer": "ipython3",
   "version": "3.12.3"
  }
 },
 "nbformat": 4,
 "nbformat_minor": 5
}
