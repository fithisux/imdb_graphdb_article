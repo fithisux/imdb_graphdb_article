{
 "cells": [
  {
   "cell_type": "code",
   "execution_count": 1,
   "id": "feea86b1-0603-4bc3-8c40-dce17e47454a",
   "metadata": {},
   "outputs": [
    {
     "name": "stdout",
     "output_type": "stream",
     "text": [
      "Requirement already satisfied: kuzu in c:\\winoss\\python311\\lib\\site-packages (0.3.1)\n"
     ]
    }
   ],
   "source": [
    "!pip install kuzu "
   ]
  },
  {
   "cell_type": "code",
   "execution_count": 1,
   "id": "ae4d3da1-b568-4233-a00c-2163fd2cfb38",
   "metadata": {},
   "outputs": [],
   "source": [
    "import kuzu\n",
    "\n",
    "db = kuzu.Database('./kuzudb_elt')\n",
    "conn = kuzu.Connection(db)"
   ]
  },
  {
   "cell_type": "code",
   "execution_count": 3,
   "id": "ae114aef-85e6-4c2e-96d9-c95064fa0bbd",
   "metadata": {},
   "outputs": [
    {
     "name": "stdout",
     "output_type": "stream",
     "text": [
      "['Kendall Coyne']\n",
      "['Daquan Saxton']\n",
      "['Katie Correll']\n",
      "['Max Nussbaum']\n",
      "[\"September D'Angelo\"]\n",
      "['Dan Stemkoski']\n",
      "['Johnny Hutchinson']\n",
      "['Sophie Maloney']\n",
      "['Heather Mignon']\n",
      "['Ivan Földi']\n"
     ]
    }
   ],
   "source": [
    "results = conn.execute(\"MATCH (u:NAME_BASICS) RETURN u.primaryName LIMIT 10;\")\n",
    "while results.has_next():\n",
    "    print(results.get_next())"
   ]
  }
 ],
 "metadata": {
  "kernelspec": {
   "display_name": "Python 3 (ipykernel)",
   "language": "python",
   "name": "python3"
  },
  "language_info": {
   "codemirror_mode": {
    "name": "ipython",
    "version": 3
   },
   "file_extension": ".py",
   "mimetype": "text/x-python",
   "name": "python",
   "nbconvert_exporter": "python",
   "pygments_lexer": "ipython3",
   "version": "3.12.2"
  }
 },
 "nbformat": 4,
 "nbformat_minor": 5
}
