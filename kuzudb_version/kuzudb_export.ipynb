{
 "cells": [
  {
   "cell_type": "markdown",
   "id": "9bd4ddbc-b8c4-44dc-9d96-1134b857e092",
   "metadata": {},
   "source": [
    "We make sure the export statements are generated through the dbt project. Just scan edge/node files."
   ]
  },
  {
   "cell_type": "code",
   "execution_count": 1,
   "id": "c0f1d7c5-907f-4989-a6ab-4aaa0d0def7e",
   "metadata": {},
   "outputs": [
    {
     "name": "stdout",
     "output_type": "stream",
     "text": [
      "USE main;\n",
      "COPY (SELECT * FROM main_imdb_gold.has_attribute_edge) TO 'C:/work/imdb_graphdb_article/kuzudb_version/export_elt/has_attribute_edge.parquet' (FORMAT PARQUET);\n",
      "COPY (SELECT * FROM main_imdb_gold.has_character_edge) TO 'C:/work/imdb_graphdb_article/kuzudb_version/export_elt/has_character_edge.parquet' (FORMAT PARQUET);\n",
      "COPY (SELECT * FROM main_imdb_gold.has_director_edge) TO 'C:/work/imdb_graphdb_article/kuzudb_version/export_elt/has_director_edge.parquet' (FORMAT PARQUET);\n",
      "COPY (SELECT * FROM main_imdb_gold.has_distribution_type_edge) TO 'C:/work/imdb_graphdb_article/kuzudb_version/export_elt/has_distribution_type_edge.parquet' (FORMAT PARQUET);\n",
      "COPY (SELECT * FROM main_imdb_gold.has_genre_edge) TO 'C:/work/imdb_graphdb_article/kuzudb_version/export_elt/has_genre_edge.parquet' (FORMAT PARQUET);\n",
      "COPY (SELECT * FROM main_imdb_gold.has_job_category_edge) TO 'C:/work/imdb_graphdb_article/kuzudb_version/export_elt/has_job_category_edge.parquet' (FORMAT PARQUET);\n",
      "COPY (SELECT * FROM main_imdb_gold.has_language_edge) TO 'C:/work/imdb_graphdb_article/kuzudb_version/export_elt/has_language_edge.parquet' (FORMAT PARQUET);\n",
      "COPY (SELECT * FROM main_imdb_gold.has_name_edge) TO 'C:/work/imdb_graphdb_article/kuzudb_version/export_elt/has_name_edge.parquet' (FORMAT PARQUET);\n",
      "COPY (SELECT * FROM main_imdb_gold.has_original_title_edge) TO 'C:/work/imdb_graphdb_article/kuzudb_version/export_elt/has_original_title_edge.parquet' (FORMAT PARQUET);\n",
      "COPY (SELECT * FROM main_imdb_gold.has_parent_title_edge) TO 'C:/work/imdb_graphdb_article/kuzudb_version/export_elt/has_parent_title_edge.parquet' (FORMAT PARQUET);\n",
      "COPY (SELECT * FROM main_imdb_gold.has_primaryprofession_edge) TO 'C:/work/imdb_graphdb_article/kuzudb_version/export_elt/has_primaryprofession_edge.parquet' (FORMAT PARQUET);\n",
      "COPY (SELECT * FROM main_imdb_gold.has_rating_edge) TO 'C:/work/imdb_graphdb_article/kuzudb_version/export_elt/has_rating_edge.parquet' (FORMAT PARQUET);\n",
      "COPY (SELECT * FROM main_imdb_gold.has_region_edge) TO 'C:/work/imdb_graphdb_article/kuzudb_version/export_elt/has_region_edge.parquet' (FORMAT PARQUET);\n",
      "COPY (SELECT * FROM main_imdb_gold.has_title_type_edge) TO 'C:/work/imdb_graphdb_article/kuzudb_version/export_elt/has_title_type_edge.parquet' (FORMAT PARQUET);\n",
      "COPY (SELECT * FROM main_imdb_gold.imdb_attribute_node) TO 'C:/work/imdb_graphdb_article/kuzudb_version/export_elt/imdb_attribute_node.parquet' (FORMAT PARQUET);\n",
      "COPY (SELECT * FROM main_imdb_gold.imdb_character_node) TO 'C:/work/imdb_graphdb_article/kuzudb_version/export_elt/imdb_character_node.parquet' (FORMAT PARQUET);\n",
      "COPY (SELECT * FROM main_imdb_gold.imdb_genre_node) TO 'C:/work/imdb_graphdb_article/kuzudb_version/export_elt/imdb_genre_node.parquet' (FORMAT PARQUET);\n",
      "COPY (SELECT * FROM main_imdb_gold.imdb_job_category_node) TO 'C:/work/imdb_graphdb_article/kuzudb_version/export_elt/imdb_job_category_node.parquet' (FORMAT PARQUET);\n",
      "COPY (SELECT * FROM main_imdb_gold.imdb_name_basics_node) TO 'C:/work/imdb_graphdb_article/kuzudb_version/export_elt/imdb_name_basics_node.parquet' (FORMAT PARQUET);\n",
      "COPY (SELECT * FROM main_imdb_gold.imdb_primaryprofession_node) TO 'C:/work/imdb_graphdb_article/kuzudb_version/export_elt/imdb_primaryprofession_node.parquet' (FORMAT PARQUET);\n",
      "COPY (SELECT * FROM main_imdb_gold.imdb_title_akas_node) TO 'C:/work/imdb_graphdb_article/kuzudb_version/export_elt/imdb_title_akas_node.parquet' (FORMAT PARQUET);\n",
      "COPY (SELECT * FROM main_imdb_gold.imdb_title_basics_node) TO 'C:/work/imdb_graphdb_article/kuzudb_version/export_elt/imdb_title_basics_node.parquet' (FORMAT PARQUET);\n",
      "COPY (SELECT * FROM main_imdb_gold.imdb_title_episode_node) TO 'C:/work/imdb_graphdb_article/kuzudb_version/export_elt/imdb_title_episode_node.parquet' (FORMAT PARQUET);\n",
      "COPY (SELECT * FROM main_imdb_gold.imdb_title_principal_node) TO 'C:/work/imdb_graphdb_article/kuzudb_version/export_elt/imdb_title_principal_node.parquet' (FORMAT PARQUET);\n",
      "COPY (SELECT * FROM main_imdb_gold.imdb_title_rating_node) TO 'C:/work/imdb_graphdb_article/kuzudb_version/export_elt/imdb_title_rating_node.parquet' (FORMAT PARQUET);\n",
      "COPY (SELECT * FROM main_imdb_gold.imdb_title_type_node) TO 'C:/work/imdb_graphdb_article/kuzudb_version/export_elt/imdb_title_type_node.parquet' (FORMAT PARQUET);\n",
      "COPY (SELECT * FROM main_imdb_gold.is_known_for_edge) TO 'C:/work/imdb_graphdb_article/kuzudb_version/export_elt/is_known_for_edge.parquet' (FORMAT PARQUET);\n",
      "COPY (SELECT * FROM main_imdb_gold.is_title_edge) TO 'C:/work/imdb_graphdb_article/kuzudb_version/export_elt/is_title_edge.parquet' (FORMAT PARQUET);\n",
      "COPY (SELECT * FROM main_imdb_gold.is_written_by) TO 'C:/work/imdb_graphdb_article/kuzudb_version/export_elt/is_written_by.parquet' (FORMAT PARQUET);\n",
      "COPY (SELECT * FROM main_imdb_gold.works_for_edge) TO 'C:/work/imdb_graphdb_article/kuzudb_version/export_elt/works_for_edge.parquet' (FORMAT PARQUET);\n"
     ]
    }
   ],
   "source": [
    "import pathlib\n",
    "\n",
    "WHERE_IS_DBT_PROJECT = \"../../imdb_dataset_article/models/imdb_gold/*.sql\"\n",
    "\n",
    "files = [f.name.split('.')[0] for f in pathlib.Path().glob(WHERE_IS_DBT_PROJECT)]\n",
    "\n",
    "WHERE_TO_EXPORT_PARQUET_FILES = 'C:/work/imdb_graphdb_article/kuzudb_version/export_elt'\n",
    "\n",
    "use_statement = \"USE main;\"\n",
    "\n",
    "sql_statements = [use_statement]\n",
    "for filename in files:\n",
    "    export_statement = f\"COPY (SELECT * FROM main_imdb_gold.{filename}) TO '{WHERE_TO_EXPORT_PARQUET_FILES}/{filename}.parquet' (FORMAT PARQUET);\"\n",
    "    sql_statements.append(export_statement)\n",
    "\n",
    "print(\"\\n\".join(sql_statements))"
   ]
  },
  {
   "cell_type": "code",
   "execution_count": 2,
   "id": "fb858e88-bea1-464c-b061-49ae1019eda8",
   "metadata": {},
   "outputs": [
    {
     "name": "stdout",
     "output_type": "stream",
     "text": [
      "Requirement already satisfied: duckdb in c:\\winoss\\python312\\lib\\site-packages (1.0.0)\n"
     ]
    },
    {
     "name": "stderr",
     "output_type": "stream",
     "text": [
      "\n",
      "[notice] A new release of pip is available: 24.0 -> 24.1\n",
      "[notice] To update, run: python.exe -m pip install --upgrade pip\n"
     ]
    }
   ],
   "source": [
    "!pip install duckdb"
   ]
  },
  {
   "cell_type": "markdown",
   "id": "e1454524-5708-4c65-a784-40eaafafd1e3",
   "metadata": {},
   "source": [
    "We export to parquet node/edge tables"
   ]
  },
  {
   "cell_type": "code",
   "execution_count": 3,
   "id": "b22a27c6-99a9-4a3a-96d4-891bf43322ba",
   "metadata": {},
   "outputs": [
    {
     "name": "stdout",
     "output_type": "stream",
     "text": [
      "SQL statement is USE main;\n",
      "SQL statement is COPY (SELECT * FROM main_imdb_gold.has_attribute_edge) TO 'C:/work/imdb_graphdb_article/kuzudb_version/export_elt/has_attribute_edge.parquet' (FORMAT PARQUET);\n",
      "SQL statement is COPY (SELECT * FROM main_imdb_gold.has_character_edge) TO 'C:/work/imdb_graphdb_article/kuzudb_version/export_elt/has_character_edge.parquet' (FORMAT PARQUET);\n",
      "SQL statement is COPY (SELECT * FROM main_imdb_gold.has_director_edge) TO 'C:/work/imdb_graphdb_article/kuzudb_version/export_elt/has_director_edge.parquet' (FORMAT PARQUET);\n",
      "SQL statement is COPY (SELECT * FROM main_imdb_gold.has_distribution_type_edge) TO 'C:/work/imdb_graphdb_article/kuzudb_version/export_elt/has_distribution_type_edge.parquet' (FORMAT PARQUET);\n",
      "SQL statement is COPY (SELECT * FROM main_imdb_gold.has_genre_edge) TO 'C:/work/imdb_graphdb_article/kuzudb_version/export_elt/has_genre_edge.parquet' (FORMAT PARQUET);\n",
      "SQL statement is COPY (SELECT * FROM main_imdb_gold.has_job_category_edge) TO 'C:/work/imdb_graphdb_article/kuzudb_version/export_elt/has_job_category_edge.parquet' (FORMAT PARQUET);\n",
      "SQL statement is COPY (SELECT * FROM main_imdb_gold.has_language_edge) TO 'C:/work/imdb_graphdb_article/kuzudb_version/export_elt/has_language_edge.parquet' (FORMAT PARQUET);\n",
      "SQL statement is COPY (SELECT * FROM main_imdb_gold.has_name_edge) TO 'C:/work/imdb_graphdb_article/kuzudb_version/export_elt/has_name_edge.parquet' (FORMAT PARQUET);\n",
      "SQL statement is COPY (SELECT * FROM main_imdb_gold.has_original_title_edge) TO 'C:/work/imdb_graphdb_article/kuzudb_version/export_elt/has_original_title_edge.parquet' (FORMAT PARQUET);\n",
      "SQL statement is COPY (SELECT * FROM main_imdb_gold.has_parent_title_edge) TO 'C:/work/imdb_graphdb_article/kuzudb_version/export_elt/has_parent_title_edge.parquet' (FORMAT PARQUET);\n",
      "SQL statement is COPY (SELECT * FROM main_imdb_gold.has_primaryprofession_edge) TO 'C:/work/imdb_graphdb_article/kuzudb_version/export_elt/has_primaryprofession_edge.parquet' (FORMAT PARQUET);\n",
      "SQL statement is COPY (SELECT * FROM main_imdb_gold.has_rating_edge) TO 'C:/work/imdb_graphdb_article/kuzudb_version/export_elt/has_rating_edge.parquet' (FORMAT PARQUET);\n",
      "SQL statement is COPY (SELECT * FROM main_imdb_gold.has_region_edge) TO 'C:/work/imdb_graphdb_article/kuzudb_version/export_elt/has_region_edge.parquet' (FORMAT PARQUET);\n",
      "SQL statement is COPY (SELECT * FROM main_imdb_gold.has_title_type_edge) TO 'C:/work/imdb_graphdb_article/kuzudb_version/export_elt/has_title_type_edge.parquet' (FORMAT PARQUET);\n",
      "SQL statement is COPY (SELECT * FROM main_imdb_gold.imdb_attribute_node) TO 'C:/work/imdb_graphdb_article/kuzudb_version/export_elt/imdb_attribute_node.parquet' (FORMAT PARQUET);\n",
      "SQL statement is COPY (SELECT * FROM main_imdb_gold.imdb_character_node) TO 'C:/work/imdb_graphdb_article/kuzudb_version/export_elt/imdb_character_node.parquet' (FORMAT PARQUET);\n",
      "SQL statement is COPY (SELECT * FROM main_imdb_gold.imdb_genre_node) TO 'C:/work/imdb_graphdb_article/kuzudb_version/export_elt/imdb_genre_node.parquet' (FORMAT PARQUET);\n",
      "SQL statement is COPY (SELECT * FROM main_imdb_gold.imdb_job_category_node) TO 'C:/work/imdb_graphdb_article/kuzudb_version/export_elt/imdb_job_category_node.parquet' (FORMAT PARQUET);\n",
      "SQL statement is COPY (SELECT * FROM main_imdb_gold.imdb_name_basics_node) TO 'C:/work/imdb_graphdb_article/kuzudb_version/export_elt/imdb_name_basics_node.parquet' (FORMAT PARQUET);\n",
      "SQL statement is COPY (SELECT * FROM main_imdb_gold.imdb_primaryprofession_node) TO 'C:/work/imdb_graphdb_article/kuzudb_version/export_elt/imdb_primaryprofession_node.parquet' (FORMAT PARQUET);\n",
      "SQL statement is COPY (SELECT * FROM main_imdb_gold.imdb_title_akas_node) TO 'C:/work/imdb_graphdb_article/kuzudb_version/export_elt/imdb_title_akas_node.parquet' (FORMAT PARQUET);\n",
      "SQL statement is COPY (SELECT * FROM main_imdb_gold.imdb_title_basics_node) TO 'C:/work/imdb_graphdb_article/kuzudb_version/export_elt/imdb_title_basics_node.parquet' (FORMAT PARQUET);\n",
      "SQL statement is COPY (SELECT * FROM main_imdb_gold.imdb_title_episode_node) TO 'C:/work/imdb_graphdb_article/kuzudb_version/export_elt/imdb_title_episode_node.parquet' (FORMAT PARQUET);\n",
      "SQL statement is COPY (SELECT * FROM main_imdb_gold.imdb_title_principal_node) TO 'C:/work/imdb_graphdb_article/kuzudb_version/export_elt/imdb_title_principal_node.parquet' (FORMAT PARQUET);\n",
      "SQL statement is COPY (SELECT * FROM main_imdb_gold.imdb_title_rating_node) TO 'C:/work/imdb_graphdb_article/kuzudb_version/export_elt/imdb_title_rating_node.parquet' (FORMAT PARQUET);\n",
      "SQL statement is COPY (SELECT * FROM main_imdb_gold.imdb_title_type_node) TO 'C:/work/imdb_graphdb_article/kuzudb_version/export_elt/imdb_title_type_node.parquet' (FORMAT PARQUET);\n",
      "SQL statement is COPY (SELECT * FROM main_imdb_gold.is_known_for_edge) TO 'C:/work/imdb_graphdb_article/kuzudb_version/export_elt/is_known_for_edge.parquet' (FORMAT PARQUET);\n",
      "SQL statement is COPY (SELECT * FROM main_imdb_gold.is_title_edge) TO 'C:/work/imdb_graphdb_article/kuzudb_version/export_elt/is_title_edge.parquet' (FORMAT PARQUET);\n",
      "SQL statement is COPY (SELECT * FROM main_imdb_gold.is_written_by) TO 'C:/work/imdb_graphdb_article/kuzudb_version/export_elt/is_written_by.parquet' (FORMAT PARQUET);\n",
      "SQL statement is COPY (SELECT * FROM main_imdb_gold.works_for_edge) TO 'C:/work/imdb_graphdb_article/kuzudb_version/export_elt/works_for_edge.parquet' (FORMAT PARQUET);\n"
     ]
    }
   ],
   "source": [
    "import duckdb\n",
    "con = duckdb.connect(\"C:/work/imdb_dataset_article/database_files/dev.duckdb\")\n",
    "\n",
    "p = pathlib.Path('export_elt')\n",
    "p.mkdir(exist_ok=True)\n",
    "\n",
    "for parquet_file in p.glob('*.parquet'):\n",
    "    print(parquet_file)\n",
    "    parquet_file.unlink()\n",
    "\n",
    "for sql_statement in sql_statements:\n",
    "    print(f\"SQL statement is {sql_statement}\")\n",
    "    con.sql(sql_statement)\n",
    "\n",
    "con.close()"
   ]
  }
 ],
 "metadata": {
  "kernelspec": {
   "display_name": "Python 3 (ipykernel)",
   "language": "python",
   "name": "python3"
  },
  "language_info": {
   "codemirror_mode": {
    "name": "ipython",
    "version": 3
   },
   "file_extension": ".py",
   "mimetype": "text/x-python",
   "name": "python",
   "nbconvert_exporter": "python",
   "pygments_lexer": "ipython3",
   "version": "3.12.4"
  }
 },
 "nbformat": 4,
 "nbformat_minor": 5
}
