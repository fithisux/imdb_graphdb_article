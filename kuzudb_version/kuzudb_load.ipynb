{
 "cells": [
  {
   "cell_type": "markdown",
   "id": "5a885654-178b-48b6-963f-8406b2d629fd",
   "metadata": {},
   "source": [
    "We install here the required dependencies"
   ]
  },
  {
   "cell_type": "code",
   "execution_count": 1,
   "id": "452d403f-a92d-43aa-9e46-b2e4306e7304",
   "metadata": {},
   "outputs": [
    {
     "name": "stdout",
     "output_type": "stream",
     "text": [
      "Requirement already satisfied: kuzu in c:\\work\\imdb_graphdb_article\\venv\\lib\\site-packages (0.4.2)\n"
     ]
    }
   ],
   "source": [
    "!pip install kuzu"
   ]
  },
  {
   "cell_type": "code",
   "execution_count": 2,
   "id": "76d20366-e6dd-449e-b6d5-487dedb28d71",
   "metadata": {},
   "outputs": [],
   "source": [
    "import kuzu\n",
    "\n",
    "db = kuzu.Database('./kuzudb_elt')\n",
    "conn = kuzu.Connection(db)"
   ]
  },
  {
   "cell_type": "markdown",
   "id": "f0b5810d-bdcf-4e87-baae-115b23fae03f",
   "metadata": {},
   "source": [
    "Let's drop the old edges and then nodes (if they exist)"
   ]
  },
  {
   "cell_type": "code",
   "execution_count": 3,
   "id": "45c681d0-d593-4b91-a7d8-05c0a8bec979",
   "metadata": {},
   "outputs": [
    {
     "name": "stdout",
     "output_type": "stream",
     "text": [
      "CPU times: total: 15.6 ms\n",
      "Wall time: 24 ms\n"
     ]
    }
   ],
   "source": [
    "%%time\n",
    "\n",
    "SHOW_EDGE_TABLES = \"\"\"\n",
    "CALL SHOW_TABLES() WHERE type='REL' RETURN *;\n",
    "\"\"\"\n",
    "result_set = conn.execute(SHOW_EDGE_TABLES)\n",
    "while result_set.has_next():\n",
    "    table_name = result_set.get_next()[0]\n",
    "    print(f\"DROPPING {table_name}\")\n",
    "    conn.execute(f\"DROP TABLE {table_name};\")\n",
    "\n",
    "result_set.close()\n",
    "\n",
    "SHOW_NODE_TABLES = \"\"\"\n",
    "CALL SHOW_TABLES() WHERE type='NODE' RETURN *;\n",
    "\"\"\"\n",
    "result_set = conn.execute(SHOW_NODE_TABLES)\n",
    "while result_set.has_next():\n",
    "    table_name = result_set.get_next()[0]\n",
    "    print(f\"DROPPING {table_name}\")\n",
    "    conn.execute(f\"DROP TABLE {table_name};\")\n",
    "\n",
    "result_set.close()"
   ]
  },
  {
   "cell_type": "markdown",
   "id": "22aa0b5d-4754-4742-b665-663148942f27",
   "metadata": {},
   "source": [
    "Now we load the nodes."
   ]
  },
  {
   "cell_type": "code",
   "execution_count": 4,
   "id": "bf3ce293-1cc1-4c37-9106-5907825baf94",
   "metadata": {},
   "outputs": [
    {
     "name": "stdout",
     "output_type": "stream",
     "text": [
      "Executing statement CREATE NODE TABLE IMDB_REGION_CODE(name STRING, alpha2 STRING, PRIMARY KEY (alpha2));\n",
      "\n",
      "Executing statement CREATE NODE TABLE IMDB_LANGUAGE_CODE(alpha2 STRING, English STRING, PRIMARY KEY (alpha2));\n",
      "\n",
      "Executing statement CREATE NODE TABLE IMDB_GENRE(genre STRING, PRIMARY KEY (genre));\n",
      "\n",
      "Executing statement CREATE NODE TABLE IMDB_DISTRIBUTION_TYPE(distribution_type STRING, PRIMARY KEY (distribution_type));\n",
      "\n",
      "Executing statement CREATE NODE TABLE IMDB_JOB_CATEGORY(category STRING, PRIMARY KEY (category));\n",
      "\n",
      "Executing statement CREATE NODE TABLE IMDB_TITLE_TYPE(title_type STRING, PRIMARY KEY (title_type));\n",
      "\n",
      "Executing statement CREATE NODE TABLE IMDB_ATTRIBUTE(attribute STRING, PRIMARY KEY (attribute));\n",
      "\n",
      "Executing statement CREATE NODE TABLE IMDB_CHARACTER(somecharacter STRING, PRIMARY KEY (somecharacter));\n",
      "\n",
      "Executing statement CREATE NODE TABLE IMDB_PRIMARYPROFESSION(profession STRING, PRIMARY KEY (profession));\n",
      "\n",
      "Executing statement CREATE NODE TABLE IMDB_NAME_BASICS(nconst STRING, primaryName STRING, birthYear INT32, deathYear INT32, PRIMARY KEY (nconst));\n",
      "\n",
      "Executing statement CREATE NODE TABLE IMDB_TITLE_AKAS(akas_id STRING, titleId STRING, ordering INT32, title STRING, isOriginalTitle BOOLEAN, PRIMARY KEY (akas_id));\n",
      "\n",
      "Executing statement CREATE NODE TABLE IMDB_TITLE_BASICS(tconst STRING, primaryTitle STRING, originalTitle STRING, isAdult boolean, startYear INT32, endYear INT32 ,runtimeMinutes INT32, PRIMARY KEY (tconst));\n",
      "\n",
      "Executing statement CREATE NODE TABLE IMDB_TITLE_EPISODE(epitconst STRING, seasonNumber INT32, episodeNumber INT32, PRIMARY KEY (epitconst));\n",
      "\n",
      "Executing statement CREATE NODE TABLE IMDB_TITLE_PRINCIPAL(principal_id STRING, tconst STRING, ordering INT32, job STRING, PRIMARY KEY (principal_id));\n",
      "\n",
      "Executing statement CREATE NODE TABLE IMDB_TITLE_RATING(ratetconst STRING, averageRating DOUBLE, numVotes INT32, PRIMARY KEY (ratetconst));\n",
      "Executing statement COPY IMDB_REGION_CODE FROM \"../seeds/region_codes.csv\"\n",
      "\n",
      "Executing statement COPY IMDB_LANGUAGE_CODE FROM \"../seeds/language_codes.csv\"\n",
      "\n",
      "Executing statement COPY IMDB_DISTRIBUTION_TYPE FROM \"../seeds/distribution_types.csv\"\n",
      "\n",
      "Executing statement COPY IMDB_GENRE FROM \"./export_elt/imdb_genre_node.parquet\"\n",
      "\n",
      "Executing statement COPY IMDB_JOB_CATEGORY FROM \"./export_elt/imdb_job_category_node.parquet\"\n",
      "\n",
      "Executing statement COPY IMDB_TITLE_TYPE FROM \"./export_elt/imdb_title_type_node.parquet\"\n",
      "\n",
      "Executing statement COPY IMDB_ATTRIBUTE FROM \"./export_elt/imdb_attribute_node.parquet\"\n",
      "\n",
      "Executing statement COPY IMDB_CHARACTER FROM \"./export_elt/imdb_character_node.parquet\"\n",
      "\n",
      "Executing statement COPY IMDB_PRIMARYPROFESSION FROM \"./export_elt/imdb_primaryprofession_node.parquet\"\n",
      "\n",
      "Executing statement COPY IMDB_NAME_BASICS FROM \"export_elt/imdb_name_basics_node.parquet\"\n",
      "\n",
      "Executing statement COPY IMDB_TITLE_AKAS FROM \"export_elt/imdb_title_akas_node.parquet\"\n",
      "\n",
      "Executing statement COPY IMDB_TITLE_BASICS FROM \"export_elt/imdb_title_basics_node.parquet\"\n",
      "\n",
      "Executing statement COPY IMDB_TITLE_EPISODE FROM \"export_elt/imdb_title_episode_node.parquet\"\n",
      "\n",
      "Executing statement COPY IMDB_TITLE_PRINCIPAL FROM \"export_elt/imdb_title_principal_node.parquet\"\n",
      "\n",
      "Executing statement COPY IMDB_TITLE_RATING FROM \"export_elt/imdb_title_rating_node.parquet\"\n",
      "CPU times: total: 4min 29s\n",
      "Wall time: 1min 20s\n"
     ]
    }
   ],
   "source": [
    "%%time\n",
    "\n",
    "with open('dml_statements/elt_kuzudb_node_schema.sql') as f:\n",
    "    creation_lines = [line for line in f]\n",
    "\n",
    "with open('dml_statements/elt_kuzudb_node_import.sql') as f:\n",
    "    import_lines = [line for line in f]\n",
    "    \n",
    "\n",
    "#do not forget the primary keys for seeds\n",
    "\n",
    "    \n",
    "for line in creation_lines:\n",
    "    print(f\"Executing statement {line}\")\n",
    "    conn.execute(line)\n",
    "\n",
    "for line in import_lines:\n",
    "    print(f\"Executing statement {line}\")\n",
    "    conn.execute(line)"
   ]
  },
  {
   "cell_type": "markdown",
   "id": "e45b6919-9c52-4313-bd17-880da51c91f9",
   "metadata": {},
   "source": [
    "Now we load the relationships."
   ]
  },
  {
   "cell_type": "code",
   "execution_count": 5,
   "id": "f5ffe483-6d78-40ef-b278-3568445bde6c",
   "metadata": {},
   "outputs": [
    {
     "name": "stdout",
     "output_type": "stream",
     "text": [
      "Executing statement CREATE REL TABLE HAS_ATTRIBUTE(FROM IMDB_TITLE_AKAS TO IMDB_ATTRIBUTE);\n",
      "\n",
      "Executing statement CREATE REL TABLE HAS_CHARACTER(FROM IMDB_TITLE_PRINCIPAL TO IMDB_CHARACTER);\n",
      "\n",
      "Executing statement CREATE REL TABLE HAS_DIRECTOR(FROM IMDB_TITLE_BASICS TO IMDB_NAME_BASICS);\n",
      "\n",
      "Executing statement CREATE REL TABLE HAS_DISTRIBUTION_TYPE(FROM IMDB_TITLE_AKAS TO IMDB_DISTRIBUTION_TYPE);\n",
      "\n",
      "Executing statement CREATE REL TABLE HAS_LANGUAGE(FROM IMDB_TITLE_AKAS TO IMDB_LANGUAGE_CODE);\n",
      "\n",
      "Executing statement CREATE REL TABLE HAS_GENRE(FROM IMDB_TITLE_BASICS TO IMDB_GENRE);\n",
      "\n",
      "Executing statement CREATE REL TABLE HAS_JOB_CATEGORY(FROM IMDB_TITLE_PRINCIPAL TO IMDB_JOB_CATEGORY);\n",
      "\n",
      "Executing statement CREATE REL TABLE IS_KNOWN_FOR(FROM IMDB_NAME_BASICS TO IMDB_TITLE_BASICS);\n",
      "\n",
      "Executing statement CREATE REL TABLE HAS_NAME(FROM IMDB_TITLE_PRINCIPAL TO IMDB_NAME_BASICS);\n",
      "\n",
      "Executing statement CREATE REL TABLE HAS_ORIGINAL_TITLE(FROM IMDB_TITLE_AKAS TO IMDB_TITLE_BASICS);\n",
      "\n",
      "Executing statement CREATE REL TABLE HAS_PARENT_TITLE(FROM IMDB_TITLE_EPISODE TO IMDB_TITLE_BASICS);\n",
      "\n",
      "Executing statement CREATE REL TABLE HAS_PRIMARYPROFESSION(FROM IMDB_NAME_BASICS TO IMDB_PRIMARYPROFESSION);\n",
      "\n",
      "Executing statement CREATE REL TABLE HAS_RATING(FROM IMDB_TITLE_BASICS TO IMDB_TITLE_RATING);\n",
      "\n",
      "Executing statement CREATE REL TABLE HAS_REGION(FROM IMDB_TITLE_AKAS TO IMDB_REGION_CODE);\n",
      "\n",
      "Executing statement CREATE REL TABLE IS_TITLE_TYPE(FROM IMDB_TITLE_EPISODE TO IMDB_TITLE_BASICS);\n",
      "\n",
      "Executing statement CREATE REL TABLE HAS_TITLE_TYPE(FROM IMDB_TITLE_BASICS TO IMDB_TITLE_TYPE);\n",
      "\n",
      "Executing statement CREATE REL TABLE WORKS_FOR(FROM IMDB_TITLE_PRINCIPAL TO IMDB_TITLE_BASICS);\n",
      "\n",
      "Executing statement CREATE REL TABLE IS_WRITTEN_BY(FROM IMDB_TITLE_BASICS TO IMDB_NAME_BASICS);\n",
      "Executing statement COPY HAS_ATTRIBUTE FROM \"export_elt/has_attribute_edge.parquet\"\n",
      "\n",
      "Executing statement COPY HAS_CHARACTER FROM \"export_elt/has_character_edge.parquet\"\n",
      "\n",
      "Executing statement COPY HAS_DIRECTOR FROM \"export_elt/has_director_edge.parquet\"\n",
      "\n",
      "Executing statement COPY HAS_DISTRIBUTION_TYPE FROM \"export_elt/has_distribution_type_edge.parquet\"\n",
      "\n",
      "Executing statement COPY HAS_LANGUAGE FROM \"export_elt/has_language_edge.parquet\"\n",
      "\n",
      "Executing statement COPY HAS_GENRE FROM \"export_elt/has_genre_edge.parquet\"\n",
      "\n",
      "Executing statement COPY HAS_JOB_CATEGORY FROM \"export_elt/has_job_category_edge.parquet\"\n",
      "\n",
      "Executing statement COPY IS_KNOWN_FOR FROM \"export_elt/is_known_for_edge.parquet\"\n",
      "\n",
      "Executing statement COPY HAS_NAME FROM \"export_elt/has_name_edge.parquet\"\n",
      "\n",
      "Executing statement COPY HAS_ORIGINAL_TITLE FROM \"export_elt/has_original_title_edge.parquet\"\n",
      "\n",
      "Executing statement COPY HAS_PARENT_TITLE FROM \"export_elt/has_parent_title_edge.parquet\"\n",
      "\n",
      "Executing statement COPY HAS_PRIMARYPROFESSION FROM \"export_elt/has_primaryprofession_edge.parquet\"\n",
      "\n",
      "Executing statement COPY HAS_RATING FROM \"export_elt/has_rating_edge.parquet\"\n",
      "\n",
      "Executing statement COPY HAS_REGION FROM \"export_elt/has_region_edge.parquet\"\n",
      "\n",
      "Executing statement COPY IS_TITLE_TYPE FROM \"export_elt/is_title_edge.parquet\"\n",
      "\n",
      "Executing statement COPY HAS_TITLE_TYPE FROM \"export_elt/has_title_type_edge.parquet\"\n",
      "\n",
      "Executing statement COPY WORKS_FOR FROM \"export_elt/works_for_edge.parquet\"\n",
      "\n",
      "Executing statement COPY IS_WRITTEN_BY FROM \"export_elt/is_written_by_edge.parquet\"\n",
      "CPU times: total: 7h 5min 43s\n",
      "Wall time: 1h 34min 51s\n"
     ]
    }
   ],
   "source": [
    "%%time\n",
    "\n",
    "with open('dml_statements/elt_kuzudb_rel_schema.sql') as f:\n",
    "    creation_lines = [line for line in f]\n",
    "\n",
    "with open('dml_statements/elt_kuzudb_rel_import.sql') as f:\n",
    "    import_lines = [line for line in f]\n",
    "    \n",
    "\n",
    "#do not forget the primary keys for seeds\n",
    "\n",
    "    \n",
    "for line in creation_lines:\n",
    "    print(f\"Executing statement {line}\")\n",
    "    conn.execute(line)\n",
    "\n",
    "for line in import_lines:\n",
    "    print(f\"Executing statement {line}\")\n",
    "    conn.execute(line)"
   ]
  }
 ],
 "metadata": {
  "kernelspec": {
   "display_name": "Python 3 (ipykernel)",
   "language": "python",
   "name": "python3"
  },
  "language_info": {
   "codemirror_mode": {
    "name": "ipython",
    "version": 3
   },
   "file_extension": ".py",
   "mimetype": "text/x-python",
   "name": "python",
   "nbconvert_exporter": "python",
   "pygments_lexer": "ipython3",
   "version": "3.12.4"
  }
 },
 "nbformat": 4,
 "nbformat_minor": 5
}
