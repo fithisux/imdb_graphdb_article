{
 "cells": [
  {
   "cell_type": "markdown",
   "id": "9bd4ddbc-b8c4-44dc-9d96-1134b857e092",
   "metadata": {},
   "source": [
    "We make sure the export statements are generated through the dbt project. Just scan edge/node files."
   ]
  },
  {
   "cell_type": "code",
   "execution_count": 1,
   "id": "c0f1d7c5-907f-4989-a6ab-4aaa0d0def7e",
   "metadata": {},
   "outputs": [
    {
     "name": "stdout",
     "output_type": "stream",
     "text": [
      "USE main;\n",
      "COPY (SELECT * FROM main_imdb_kuzu.attributes_edge) TO 'C:/work/imdb_graphdb_article/export_elt/attributes_edge.parquet' (FORMAT PARQUET);\n",
      "COPY (SELECT * FROM main_imdb_kuzu.attributes_node) TO 'C:/work/imdb_graphdb_article/export_elt/attributes_node.parquet' (FORMAT PARQUET);\n",
      "COPY (SELECT * FROM main_imdb_kuzu.characters_edge) TO 'C:/work/imdb_graphdb_article/export_elt/characters_edge.parquet' (FORMAT PARQUET);\n",
      "COPY (SELECT * FROM main_imdb_kuzu.characters_node) TO 'C:/work/imdb_graphdb_article/export_elt/characters_node.parquet' (FORMAT PARQUET);\n",
      "COPY (SELECT * FROM main_imdb_kuzu.directors_edge) TO 'C:/work/imdb_graphdb_article/export_elt/directors_edge.parquet' (FORMAT PARQUET);\n",
      "COPY (SELECT * FROM main_imdb_kuzu.distribution_types_edge) TO 'C:/work/imdb_graphdb_article/export_elt/distribution_types_edge.parquet' (FORMAT PARQUET);\n",
      "COPY (SELECT * FROM main_imdb_kuzu.genre_edge) TO 'C:/work/imdb_graphdb_article/export_elt/genre_edge.parquet' (FORMAT PARQUET);\n",
      "COPY (SELECT * FROM main_imdb_kuzu.genre_node) TO 'C:/work/imdb_graphdb_article/export_elt/genre_node.parquet' (FORMAT PARQUET);\n",
      "COPY (SELECT * FROM main_imdb_kuzu.job_category_edge) TO 'C:/work/imdb_graphdb_article/export_elt/job_category_edge.parquet' (FORMAT PARQUET);\n",
      "COPY (SELECT * FROM main_imdb_kuzu.job_category_node) TO 'C:/work/imdb_graphdb_article/export_elt/job_category_node.parquet' (FORMAT PARQUET);\n",
      "COPY (SELECT * FROM main_imdb_kuzu.knownfor_edge) TO 'C:/work/imdb_graphdb_article/export_elt/knownfor_edge.parquet' (FORMAT PARQUET);\n",
      "COPY (SELECT * FROM main_imdb_kuzu.language_edge) TO 'C:/work/imdb_graphdb_article/export_elt/language_edge.parquet' (FORMAT PARQUET);\n",
      "COPY (SELECT * FROM main_imdb_kuzu.name_basics_node) TO 'C:/work/imdb_graphdb_article/export_elt/name_basics_node.parquet' (FORMAT PARQUET);\n",
      "COPY (SELECT * FROM main_imdb_kuzu.name_edge) TO 'C:/work/imdb_graphdb_article/export_elt/name_edge.parquet' (FORMAT PARQUET);\n",
      "COPY (SELECT * FROM main_imdb_kuzu.original_title_edge) TO 'C:/work/imdb_graphdb_article/export_elt/original_title_edge.parquet' (FORMAT PARQUET);\n",
      "COPY (SELECT * FROM main_imdb_kuzu.parent_title_edge) TO 'C:/work/imdb_graphdb_article/export_elt/parent_title_edge.parquet' (FORMAT PARQUET);\n",
      "COPY (SELECT * FROM main_imdb_kuzu.primaryprofession_edge) TO 'C:/work/imdb_graphdb_article/export_elt/primaryprofession_edge.parquet' (FORMAT PARQUET);\n",
      "COPY (SELECT * FROM main_imdb_kuzu.primaryprofession_node) TO 'C:/work/imdb_graphdb_article/export_elt/primaryprofession_node.parquet' (FORMAT PARQUET);\n",
      "COPY (SELECT * FROM main_imdb_kuzu.rate_edge) TO 'C:/work/imdb_graphdb_article/export_elt/rate_edge.parquet' (FORMAT PARQUET);\n",
      "COPY (SELECT * FROM main_imdb_kuzu.region_edge) TO 'C:/work/imdb_graphdb_article/export_elt/region_edge.parquet' (FORMAT PARQUET);\n",
      "COPY (SELECT * FROM main_imdb_kuzu.title_akas_cleansed_node) TO 'C:/work/imdb_graphdb_article/export_elt/title_akas_cleansed_node.parquet' (FORMAT PARQUET);\n",
      "COPY (SELECT * FROM main_imdb_kuzu.title_basics_node) TO 'C:/work/imdb_graphdb_article/export_elt/title_basics_node.parquet' (FORMAT PARQUET);\n",
      "COPY (SELECT * FROM main_imdb_kuzu.title_edge) TO 'C:/work/imdb_graphdb_article/export_elt/title_edge.parquet' (FORMAT PARQUET);\n",
      "COPY (SELECT * FROM main_imdb_kuzu.title_episode_node) TO 'C:/work/imdb_graphdb_article/export_elt/title_episode_node.parquet' (FORMAT PARQUET);\n",
      "COPY (SELECT * FROM main_imdb_kuzu.title_principals_cleansed_node) TO 'C:/work/imdb_graphdb_article/export_elt/title_principals_cleansed_node.parquet' (FORMAT PARQUET);\n",
      "COPY (SELECT * FROM main_imdb_kuzu.title_ratings_node) TO 'C:/work/imdb_graphdb_article/export_elt/title_ratings_node.parquet' (FORMAT PARQUET);\n",
      "COPY (SELECT * FROM main_imdb_kuzu.title_type_edge) TO 'C:/work/imdb_graphdb_article/export_elt/title_type_edge.parquet' (FORMAT PARQUET);\n",
      "COPY (SELECT * FROM main_imdb_kuzu.title_type_node) TO 'C:/work/imdb_graphdb_article/export_elt/title_type_node.parquet' (FORMAT PARQUET);\n",
      "COPY (SELECT * FROM main_imdb_kuzu.works_edge) TO 'C:/work/imdb_graphdb_article/export_elt/works_edge.parquet' (FORMAT PARQUET);\n",
      "COPY (SELECT * FROM main_imdb_kuzu.writers_edge) TO 'C:/work/imdb_graphdb_article/export_elt/writers_edge.parquet' (FORMAT PARQUET);\n"
     ]
    }
   ],
   "source": [
    "import pathlib\n",
    "\n",
    "WHERE_IS_DBT_PROJECT = \"../imdb_dataset_article/models/imdb_kuzu/*.sql\"\n",
    "\n",
    "files = [f.name.split('.')[0] for f in pathlib.Path().glob(WHERE_IS_DBT_PROJECT)]\n",
    "\n",
    "WHERE_TO_EXPORT_PARQUET_FILES = 'C:/work/imdb_graphdb_article/neo4j_version/export_elt'\n",
    "\n",
    "use_statement = \"USE main;\"\n",
    "\n",
    "sql_statements = [use_statement]\n",
    "for filename in files:\n",
    "    export_statement = f\"COPY (SELECT * FROM main_imdb_kuzu.{filename}) TO '{WHERE_TO_EXPORT_PARQUET_FILES}/{filename}.csv.gz' (HEADER, DELIMITER ';', COMPRESSION 'gzip');\"\n",
    "    sql_statements.append(export_statement)\n",
    "\n",
    "print(\"\\n\".join(sql_statements))"
   ]
  },
  {
   "cell_type": "code",
   "execution_count": 2,
   "id": "fb858e88-bea1-464c-b061-49ae1019eda8",
   "metadata": {},
   "outputs": [
    {
     "name": "stdout",
     "output_type": "stream",
     "text": [
      "Requirement already satisfied: duckdb in c:\\winoss\\python312\\lib\\site-packages (1.0.0)\n"
     ]
    }
   ],
   "source": [
    "!pip install duckdb"
   ]
  },
  {
   "cell_type": "markdown",
   "id": "e1454524-5708-4c65-a784-40eaafafd1e3",
   "metadata": {},
   "source": [
    "We export to parquet node/edge tables"
   ]
  },
  {
   "cell_type": "code",
   "execution_count": 4,
   "id": "b22a27c6-99a9-4a3a-96d4-891bf43322ba",
   "metadata": {},
   "outputs": [
    {
     "name": "stdout",
     "output_type": "stream",
     "text": [
      "SQL statement is USE main;\n",
      "SQL statement is COPY (SELECT * FROM main_imdb_kuzu.attributes_edge) TO 'C:/work/imdb_graphdb_article/export_elt/attributes_edge.parquet' (FORMAT PARQUET);\n"
     ]
    },
    {
     "data": {
      "application/vnd.jupyter.widget-view+json": {
       "model_id": "c317c3acdcff452383220f32b7067518",
       "version_major": 2,
       "version_minor": 0
      },
      "text/plain": [
       "FloatProgress(value=0.0, layout=Layout(width='auto'), style=ProgressStyle(bar_color='black'))"
      ]
     },
     "metadata": {},
     "output_type": "display_data"
    },
    {
     "name": "stdout",
     "output_type": "stream",
     "text": [
      "SQL statement is COPY (SELECT * FROM main_imdb_kuzu.attributes_node) TO 'C:/work/imdb_graphdb_article/export_elt/attributes_node.parquet' (FORMAT PARQUET);\n",
      "SQL statement is COPY (SELECT * FROM main_imdb_kuzu.characters_edge) TO 'C:/work/imdb_graphdb_article/export_elt/characters_edge.parquet' (FORMAT PARQUET);\n"
     ]
    },
    {
     "data": {
      "application/vnd.jupyter.widget-view+json": {
       "model_id": "113fdd3f248843f7925e6cf52ebe3a4d",
       "version_major": 2,
       "version_minor": 0
      },
      "text/plain": [
       "FloatProgress(value=0.0, layout=Layout(width='auto'), style=ProgressStyle(bar_color='black'))"
      ]
     },
     "metadata": {},
     "output_type": "display_data"
    },
    {
     "name": "stdout",
     "output_type": "stream",
     "text": [
      "SQL statement is COPY (SELECT * FROM main_imdb_kuzu.characters_node) TO 'C:/work/imdb_graphdb_article/export_elt/characters_node.parquet' (FORMAT PARQUET);\n"
     ]
    },
    {
     "data": {
      "application/vnd.jupyter.widget-view+json": {
       "model_id": "2b8f68b910144828aec4030aca4edf75",
       "version_major": 2,
       "version_minor": 0
      },
      "text/plain": [
       "FloatProgress(value=0.0, layout=Layout(width='auto'), style=ProgressStyle(bar_color='black'))"
      ]
     },
     "metadata": {},
     "output_type": "display_data"
    },
    {
     "name": "stdout",
     "output_type": "stream",
     "text": [
      "SQL statement is COPY (SELECT * FROM main_imdb_kuzu.directors_edge) TO 'C:/work/imdb_graphdb_article/export_elt/directors_edge.parquet' (FORMAT PARQUET);\n",
      "SQL statement is COPY (SELECT * FROM main_imdb_kuzu.distribution_types_edge) TO 'C:/work/imdb_graphdb_article/export_elt/distribution_types_edge.parquet' (FORMAT PARQUET);\n"
     ]
    },
    {
     "data": {
      "application/vnd.jupyter.widget-view+json": {
       "model_id": "b25858ea747d4bbeb858c304d10d0473",
       "version_major": 2,
       "version_minor": 0
      },
      "text/plain": [
       "FloatProgress(value=0.0, layout=Layout(width='auto'), style=ProgressStyle(bar_color='black'))"
      ]
     },
     "metadata": {},
     "output_type": "display_data"
    },
    {
     "name": "stdout",
     "output_type": "stream",
     "text": [
      "SQL statement is COPY (SELECT * FROM main_imdb_kuzu.genre_edge) TO 'C:/work/imdb_graphdb_article/export_elt/genre_edge.parquet' (FORMAT PARQUET);\n"
     ]
    },
    {
     "data": {
      "application/vnd.jupyter.widget-view+json": {
       "model_id": "14e60a236bff4d31bda83247f0e40ce0",
       "version_major": 2,
       "version_minor": 0
      },
      "text/plain": [
       "FloatProgress(value=0.0, layout=Layout(width='auto'), style=ProgressStyle(bar_color='black'))"
      ]
     },
     "metadata": {},
     "output_type": "display_data"
    },
    {
     "name": "stdout",
     "output_type": "stream",
     "text": [
      "SQL statement is COPY (SELECT * FROM main_imdb_kuzu.genre_node) TO 'C:/work/imdb_graphdb_article/export_elt/genre_node.parquet' (FORMAT PARQUET);\n"
     ]
    },
    {
     "data": {
      "application/vnd.jupyter.widget-view+json": {
       "model_id": "4f2959e5da894cdb980074c66add93d9",
       "version_major": 2,
       "version_minor": 0
      },
      "text/plain": [
       "FloatProgress(value=0.0, layout=Layout(width='auto'), style=ProgressStyle(bar_color='black'))"
      ]
     },
     "metadata": {},
     "output_type": "display_data"
    },
    {
     "name": "stdout",
     "output_type": "stream",
     "text": [
      "SQL statement is COPY (SELECT * FROM main_imdb_kuzu.job_category_edge) TO 'C:/work/imdb_graphdb_article/export_elt/job_category_edge.parquet' (FORMAT PARQUET);\n"
     ]
    },
    {
     "data": {
      "application/vnd.jupyter.widget-view+json": {
       "model_id": "3ff9fb5b99b74ab39d160474cb5abdf5",
       "version_major": 2,
       "version_minor": 0
      },
      "text/plain": [
       "FloatProgress(value=0.0, layout=Layout(width='auto'), style=ProgressStyle(bar_color='black'))"
      ]
     },
     "metadata": {},
     "output_type": "display_data"
    },
    {
     "name": "stdout",
     "output_type": "stream",
     "text": [
      "SQL statement is COPY (SELECT * FROM main_imdb_kuzu.job_category_node) TO 'C:/work/imdb_graphdb_article/export_elt/job_category_node.parquet' (FORMAT PARQUET);\n",
      "SQL statement is COPY (SELECT * FROM main_imdb_kuzu.knownfor_edge) TO 'C:/work/imdb_graphdb_article/export_elt/knownfor_edge.parquet' (FORMAT PARQUET);\n",
      "SQL statement is COPY (SELECT * FROM main_imdb_kuzu.language_edge) TO 'C:/work/imdb_graphdb_article/export_elt/language_edge.parquet' (FORMAT PARQUET);\n"
     ]
    },
    {
     "data": {
      "application/vnd.jupyter.widget-view+json": {
       "model_id": "b881fa9f77214d9685c8df4823014ddd",
       "version_major": 2,
       "version_minor": 0
      },
      "text/plain": [
       "FloatProgress(value=0.0, layout=Layout(width='auto'), style=ProgressStyle(bar_color='black'))"
      ]
     },
     "metadata": {},
     "output_type": "display_data"
    },
    {
     "name": "stdout",
     "output_type": "stream",
     "text": [
      "SQL statement is COPY (SELECT * FROM main_imdb_kuzu.name_basics_node) TO 'C:/work/imdb_graphdb_article/export_elt/name_basics_node.parquet' (FORMAT PARQUET);\n",
      "SQL statement is COPY (SELECT * FROM main_imdb_kuzu.name_edge) TO 'C:/work/imdb_graphdb_article/export_elt/name_edge.parquet' (FORMAT PARQUET);\n"
     ]
    },
    {
     "data": {
      "application/vnd.jupyter.widget-view+json": {
       "model_id": "b59eee57aec5481493b4d3cb8cc0c012",
       "version_major": 2,
       "version_minor": 0
      },
      "text/plain": [
       "FloatProgress(value=0.0, layout=Layout(width='auto'), style=ProgressStyle(bar_color='black'))"
      ]
     },
     "metadata": {},
     "output_type": "display_data"
    },
    {
     "name": "stdout",
     "output_type": "stream",
     "text": [
      "SQL statement is COPY (SELECT * FROM main_imdb_kuzu.original_title_edge) TO 'C:/work/imdb_graphdb_article/export_elt/original_title_edge.parquet' (FORMAT PARQUET);\n"
     ]
    },
    {
     "data": {
      "application/vnd.jupyter.widget-view+json": {
       "model_id": "bfc3950e35f441c4a7dc9093c0ab6c3d",
       "version_major": 2,
       "version_minor": 0
      },
      "text/plain": [
       "FloatProgress(value=0.0, layout=Layout(width='auto'), style=ProgressStyle(bar_color='black'))"
      ]
     },
     "metadata": {},
     "output_type": "display_data"
    },
    {
     "name": "stdout",
     "output_type": "stream",
     "text": [
      "SQL statement is COPY (SELECT * FROM main_imdb_kuzu.parent_title_edge) TO 'C:/work/imdb_graphdb_article/export_elt/parent_title_edge.parquet' (FORMAT PARQUET);\n",
      "SQL statement is COPY (SELECT * FROM main_imdb_kuzu.primaryprofession_edge) TO 'C:/work/imdb_graphdb_article/export_elt/primaryprofession_edge.parquet' (FORMAT PARQUET);\n",
      "SQL statement is COPY (SELECT * FROM main_imdb_kuzu.primaryprofession_node) TO 'C:/work/imdb_graphdb_article/export_elt/primaryprofession_node.parquet' (FORMAT PARQUET);\n",
      "SQL statement is COPY (SELECT * FROM main_imdb_kuzu.rate_edge) TO 'C:/work/imdb_graphdb_article/export_elt/rate_edge.parquet' (FORMAT PARQUET);\n",
      "SQL statement is COPY (SELECT * FROM main_imdb_kuzu.region_edge) TO 'C:/work/imdb_graphdb_article/export_elt/region_edge.parquet' (FORMAT PARQUET);\n"
     ]
    },
    {
     "data": {
      "application/vnd.jupyter.widget-view+json": {
       "model_id": "14126c6797a24700a0774d4c04da7678",
       "version_major": 2,
       "version_minor": 0
      },
      "text/plain": [
       "FloatProgress(value=0.0, layout=Layout(width='auto'), style=ProgressStyle(bar_color='black'))"
      ]
     },
     "metadata": {},
     "output_type": "display_data"
    },
    {
     "name": "stdout",
     "output_type": "stream",
     "text": [
      "SQL statement is COPY (SELECT * FROM main_imdb_kuzu.title_akas_cleansed_node) TO 'C:/work/imdb_graphdb_article/export_elt/title_akas_cleansed_node.parquet' (FORMAT PARQUET);\n"
     ]
    },
    {
     "data": {
      "application/vnd.jupyter.widget-view+json": {
       "model_id": "b36c039c428a4c43ba4542d1b68cb75d",
       "version_major": 2,
       "version_minor": 0
      },
      "text/plain": [
       "FloatProgress(value=0.0, layout=Layout(width='auto'), style=ProgressStyle(bar_color='black'))"
      ]
     },
     "metadata": {},
     "output_type": "display_data"
    },
    {
     "name": "stdout",
     "output_type": "stream",
     "text": [
      "SQL statement is COPY (SELECT * FROM main_imdb_kuzu.title_basics_node) TO 'C:/work/imdb_graphdb_article/export_elt/title_basics_node.parquet' (FORMAT PARQUET);\n"
     ]
    },
    {
     "data": {
      "application/vnd.jupyter.widget-view+json": {
       "model_id": "2645239d87e848a8a8a345750e7d05ff",
       "version_major": 2,
       "version_minor": 0
      },
      "text/plain": [
       "FloatProgress(value=0.0, layout=Layout(width='auto'), style=ProgressStyle(bar_color='black'))"
      ]
     },
     "metadata": {},
     "output_type": "display_data"
    },
    {
     "name": "stdout",
     "output_type": "stream",
     "text": [
      "SQL statement is COPY (SELECT * FROM main_imdb_kuzu.title_edge) TO 'C:/work/imdb_graphdb_article/export_elt/title_edge.parquet' (FORMAT PARQUET);\n",
      "SQL statement is COPY (SELECT * FROM main_imdb_kuzu.title_episode_node) TO 'C:/work/imdb_graphdb_article/export_elt/title_episode_node.parquet' (FORMAT PARQUET);\n",
      "SQL statement is COPY (SELECT * FROM main_imdb_kuzu.title_principals_cleansed_node) TO 'C:/work/imdb_graphdb_article/export_elt/title_principals_cleansed_node.parquet' (FORMAT PARQUET);\n"
     ]
    },
    {
     "data": {
      "application/vnd.jupyter.widget-view+json": {
       "model_id": "4ea936938b7142d8b366e5469736ce9d",
       "version_major": 2,
       "version_minor": 0
      },
      "text/plain": [
       "FloatProgress(value=0.0, layout=Layout(width='auto'), style=ProgressStyle(bar_color='black'))"
      ]
     },
     "metadata": {},
     "output_type": "display_data"
    },
    {
     "name": "stdout",
     "output_type": "stream",
     "text": [
      "SQL statement is COPY (SELECT * FROM main_imdb_kuzu.title_ratings_node) TO 'C:/work/imdb_graphdb_article/export_elt/title_ratings_node.parquet' (FORMAT PARQUET);\n",
      "SQL statement is COPY (SELECT * FROM main_imdb_kuzu.title_type_edge) TO 'C:/work/imdb_graphdb_article/export_elt/title_type_edge.parquet' (FORMAT PARQUET);\n",
      "SQL statement is COPY (SELECT * FROM main_imdb_kuzu.title_type_node) TO 'C:/work/imdb_graphdb_article/export_elt/title_type_node.parquet' (FORMAT PARQUET);\n",
      "SQL statement is COPY (SELECT * FROM main_imdb_kuzu.works_edge) TO 'C:/work/imdb_graphdb_article/export_elt/works_edge.parquet' (FORMAT PARQUET);\n"
     ]
    },
    {
     "data": {
      "application/vnd.jupyter.widget-view+json": {
       "model_id": "fec04047b2494a07a6183c1a1e06eac3",
       "version_major": 2,
       "version_minor": 0
      },
      "text/plain": [
       "FloatProgress(value=0.0, layout=Layout(width='auto'), style=ProgressStyle(bar_color='black'))"
      ]
     },
     "metadata": {},
     "output_type": "display_data"
    },
    {
     "name": "stdout",
     "output_type": "stream",
     "text": [
      "SQL statement is COPY (SELECT * FROM main_imdb_kuzu.writers_edge) TO 'C:/work/imdb_graphdb_article/export_elt/writers_edge.parquet' (FORMAT PARQUET);\n"
     ]
    },
    {
     "data": {
      "application/vnd.jupyter.widget-view+json": {
       "model_id": "19776791e4934132a7c3ab9d9a49a1a0",
       "version_major": 2,
       "version_minor": 0
      },
      "text/plain": [
       "FloatProgress(value=0.0, layout=Layout(width='auto'), style=ProgressStyle(bar_color='black'))"
      ]
     },
     "metadata": {},
     "output_type": "display_data"
    }
   ],
   "source": [
    "import duckdb\n",
    "con = duckdb.connect(\"C:/work/imdb_dataset_article/database_files/dev.duckdb\")\n",
    "\n",
    "p = pathlib.Path('export_elt')\n",
    "p.mkdir(exist_ok=True)\n",
    "\n",
    "for parquet_file in p.glob('*.parquet'):\n",
    "    print(parquet_file)\n",
    "    parquet_file.unlink()\n",
    "\n",
    "for sql_statement in sql_statements:\n",
    "    print(f\"SQL statement is {sql_statement}\")\n",
    "    con.sql(sql_statement)"
   ]
  }
 ],
 "metadata": {
  "kernelspec": {
   "display_name": "Python 3 (ipykernel)",
   "language": "python",
   "name": "python3"
  },
  "language_info": {
   "codemirror_mode": {
    "name": "ipython",
    "version": 3
   },
   "file_extension": ".py",
   "mimetype": "text/x-python",
   "name": "python",
   "nbconvert_exporter": "python",
   "pygments_lexer": "ipython3",
   "version": "3.12.3"
  }
 },
 "nbformat": 4,
 "nbformat_minor": 5
}
