{
 "cells": [
  {
   "cell_type": "markdown",
   "id": "9bd4ddbc-b8c4-44dc-9d96-1134b857e092",
   "metadata": {},
   "source": [
    "We make sure the export statements are generated through the dbt project. Just scan edge/node files."
   ]
  },
  {
   "cell_type": "code",
   "execution_count": 1,
   "id": "c0f1d7c5-907f-4989-a6ab-4aaa0d0def7e",
   "metadata": {},
   "outputs": [
    {
     "name": "stdout",
     "output_type": "stream",
     "text": [
      "USE main;\n",
      "COPY (SELECT * FROM main_imdb_kuzu.attributes_edge) TO 'C:/work/imdb_graphdb_article/neo4j_version/export_elt/attributes_edge.csv.gz' (HEADER, DELIMITER ';', COMPRESSION 'gzip');\n",
      "COPY (SELECT * FROM main_imdb_kuzu.attributes_node) TO 'C:/work/imdb_graphdb_article/neo4j_version/export_elt/attributes_node.csv.gz' (HEADER, DELIMITER ';', COMPRESSION 'gzip');\n",
      "COPY (SELECT * FROM main_imdb_kuzu.characters_edge) TO 'C:/work/imdb_graphdb_article/neo4j_version/export_elt/characters_edge.csv.gz' (HEADER, DELIMITER ';', COMPRESSION 'gzip');\n",
      "COPY (SELECT * FROM main_imdb_kuzu.characters_node) TO 'C:/work/imdb_graphdb_article/neo4j_version/export_elt/characters_node.csv.gz' (HEADER, DELIMITER ';', COMPRESSION 'gzip');\n",
      "COPY (SELECT * FROM main_imdb_kuzu.directors_edge) TO 'C:/work/imdb_graphdb_article/neo4j_version/export_elt/directors_edge.csv.gz' (HEADER, DELIMITER ';', COMPRESSION 'gzip');\n",
      "COPY (SELECT * FROM main_imdb_kuzu.distribution_types_edge) TO 'C:/work/imdb_graphdb_article/neo4j_version/export_elt/distribution_types_edge.csv.gz' (HEADER, DELIMITER ';', COMPRESSION 'gzip');\n",
      "COPY (SELECT * FROM main_imdb_kuzu.genre_edge) TO 'C:/work/imdb_graphdb_article/neo4j_version/export_elt/genre_edge.csv.gz' (HEADER, DELIMITER ';', COMPRESSION 'gzip');\n",
      "COPY (SELECT * FROM main_imdb_kuzu.genre_node) TO 'C:/work/imdb_graphdb_article/neo4j_version/export_elt/genre_node.csv.gz' (HEADER, DELIMITER ';', COMPRESSION 'gzip');\n",
      "COPY (SELECT * FROM main_imdb_kuzu.job_category_edge) TO 'C:/work/imdb_graphdb_article/neo4j_version/export_elt/job_category_edge.csv.gz' (HEADER, DELIMITER ';', COMPRESSION 'gzip');\n",
      "COPY (SELECT * FROM main_imdb_kuzu.job_category_node) TO 'C:/work/imdb_graphdb_article/neo4j_version/export_elt/job_category_node.csv.gz' (HEADER, DELIMITER ';', COMPRESSION 'gzip');\n",
      "COPY (SELECT * FROM main_imdb_kuzu.knownfor_edge) TO 'C:/work/imdb_graphdb_article/neo4j_version/export_elt/knownfor_edge.csv.gz' (HEADER, DELIMITER ';', COMPRESSION 'gzip');\n",
      "COPY (SELECT * FROM main_imdb_kuzu.language_edge) TO 'C:/work/imdb_graphdb_article/neo4j_version/export_elt/language_edge.csv.gz' (HEADER, DELIMITER ';', COMPRESSION 'gzip');\n",
      "COPY (SELECT * FROM main_imdb_kuzu.name_basics_node) TO 'C:/work/imdb_graphdb_article/neo4j_version/export_elt/name_basics_node.csv.gz' (HEADER, DELIMITER ';', COMPRESSION 'gzip');\n",
      "COPY (SELECT * FROM main_imdb_kuzu.name_edge) TO 'C:/work/imdb_graphdb_article/neo4j_version/export_elt/name_edge.csv.gz' (HEADER, DELIMITER ';', COMPRESSION 'gzip');\n",
      "COPY (SELECT * FROM main_imdb_kuzu.original_title_edge) TO 'C:/work/imdb_graphdb_article/neo4j_version/export_elt/original_title_edge.csv.gz' (HEADER, DELIMITER ';', COMPRESSION 'gzip');\n",
      "COPY (SELECT * FROM main_imdb_kuzu.parent_title_edge) TO 'C:/work/imdb_graphdb_article/neo4j_version/export_elt/parent_title_edge.csv.gz' (HEADER, DELIMITER ';', COMPRESSION 'gzip');\n",
      "COPY (SELECT * FROM main_imdb_kuzu.primaryprofession_edge) TO 'C:/work/imdb_graphdb_article/neo4j_version/export_elt/primaryprofession_edge.csv.gz' (HEADER, DELIMITER ';', COMPRESSION 'gzip');\n",
      "COPY (SELECT * FROM main_imdb_kuzu.primaryprofession_node) TO 'C:/work/imdb_graphdb_article/neo4j_version/export_elt/primaryprofession_node.csv.gz' (HEADER, DELIMITER ';', COMPRESSION 'gzip');\n",
      "COPY (SELECT * FROM main_imdb_kuzu.rate_edge) TO 'C:/work/imdb_graphdb_article/neo4j_version/export_elt/rate_edge.csv.gz' (HEADER, DELIMITER ';', COMPRESSION 'gzip');\n",
      "COPY (SELECT * FROM main_imdb_kuzu.region_edge) TO 'C:/work/imdb_graphdb_article/neo4j_version/export_elt/region_edge.csv.gz' (HEADER, DELIMITER ';', COMPRESSION 'gzip');\n",
      "COPY (SELECT * FROM main_imdb_kuzu.title_akas_cleansed_node) TO 'C:/work/imdb_graphdb_article/neo4j_version/export_elt/title_akas_cleansed_node.csv.gz' (HEADER, DELIMITER ';', COMPRESSION 'gzip');\n",
      "COPY (SELECT * FROM main_imdb_kuzu.title_basics_node) TO 'C:/work/imdb_graphdb_article/neo4j_version/export_elt/title_basics_node.csv.gz' (HEADER, DELIMITER ';', COMPRESSION 'gzip');\n",
      "COPY (SELECT * FROM main_imdb_kuzu.title_edge) TO 'C:/work/imdb_graphdb_article/neo4j_version/export_elt/title_edge.csv.gz' (HEADER, DELIMITER ';', COMPRESSION 'gzip');\n",
      "COPY (SELECT * FROM main_imdb_kuzu.title_episode_node) TO 'C:/work/imdb_graphdb_article/neo4j_version/export_elt/title_episode_node.csv.gz' (HEADER, DELIMITER ';', COMPRESSION 'gzip');\n",
      "COPY (SELECT * FROM main_imdb_kuzu.title_principals_cleansed_node) TO 'C:/work/imdb_graphdb_article/neo4j_version/export_elt/title_principals_cleansed_node.csv.gz' (HEADER, DELIMITER ';', COMPRESSION 'gzip');\n",
      "COPY (SELECT * FROM main_imdb_kuzu.title_ratings_node) TO 'C:/work/imdb_graphdb_article/neo4j_version/export_elt/title_ratings_node.csv.gz' (HEADER, DELIMITER ';', COMPRESSION 'gzip');\n",
      "COPY (SELECT * FROM main_imdb_kuzu.title_type_edge) TO 'C:/work/imdb_graphdb_article/neo4j_version/export_elt/title_type_edge.csv.gz' (HEADER, DELIMITER ';', COMPRESSION 'gzip');\n",
      "COPY (SELECT * FROM main_imdb_kuzu.title_type_node) TO 'C:/work/imdb_graphdb_article/neo4j_version/export_elt/title_type_node.csv.gz' (HEADER, DELIMITER ';', COMPRESSION 'gzip');\n",
      "COPY (SELECT * FROM main_imdb_kuzu.works_edge) TO 'C:/work/imdb_graphdb_article/neo4j_version/export_elt/works_edge.csv.gz' (HEADER, DELIMITER ';', COMPRESSION 'gzip');\n",
      "COPY (SELECT * FROM main_imdb_kuzu.writers_edge) TO 'C:/work/imdb_graphdb_article/neo4j_version/export_elt/writers_edge.csv.gz' (HEADER, DELIMITER ';', COMPRESSION 'gzip');\n"
     ]
    }
   ],
   "source": [
    "import pathlib\n",
    "\n",
    "WHERE_IS_DBT_PROJECT = \"../../imdb_dataset_article/models/imdb_kuzu/*.sql\"\n",
    "\n",
    "files = [f.name.split('.')[0] for f in pathlib.Path().glob(WHERE_IS_DBT_PROJECT)]\n",
    "\n",
    "WHERE_TO_EXPORT_PARQUET_FILES = 'C:/work/imdb_graphdb_article/neo4j_version/export_elt'\n",
    "\n",
    "use_statement = \"USE main;\"\n",
    "\n",
    "sql_statements = [use_statement]\n",
    "for filename in files:\n",
    "    export_statement = f\"COPY (SELECT * FROM main_imdb_kuzu.{filename}) TO '{WHERE_TO_EXPORT_PARQUET_FILES}/{filename}.csv.gz' (HEADER, DELIMITER ';', COMPRESSION 'gzip');\"\n",
    "    sql_statements.append(export_statement)\n",
    "\n",
    "print(\"\\n\".join(sql_statements))"
   ]
  },
  {
   "cell_type": "code",
   "execution_count": 2,
   "id": "fb858e88-bea1-464c-b061-49ae1019eda8",
   "metadata": {},
   "outputs": [
    {
     "name": "stdout",
     "output_type": "stream",
     "text": [
      "Requirement already satisfied: duckdb in c:\\winoss\\python312\\lib\\site-packages (1.0.0)\n"
     ]
    },
    {
     "name": "stderr",
     "output_type": "stream",
     "text": [
      "\n",
      "[notice] A new release of pip is available: 24.0 -> 24.1\n",
      "[notice] To update, run: python.exe -m pip install --upgrade pip\n"
     ]
    }
   ],
   "source": [
    "!pip install duckdb"
   ]
  },
  {
   "cell_type": "markdown",
   "id": "e1454524-5708-4c65-a784-40eaafafd1e3",
   "metadata": {},
   "source": [
    "We export to parquet node/edge tables"
   ]
  },
  {
   "cell_type": "code",
   "execution_count": 4,
   "id": "b22a27c6-99a9-4a3a-96d4-891bf43322ba",
   "metadata": {},
   "outputs": [
    {
     "name": "stdout",
     "output_type": "stream",
     "text": [
      "SQL statement is USE main;\n",
      "SQL statement is COPY (SELECT * FROM main_imdb_kuzu.attributes_edge) TO 'C:/work/imdb_graphdb_article/neo4j_version/export_elt/attributes_edge.csv.gz' (HEADER, DELIMITER ';', COMPRESSION 'gzip');\n",
      "SQL statement is COPY (SELECT * FROM main_imdb_kuzu.attributes_node) TO 'C:/work/imdb_graphdb_article/neo4j_version/export_elt/attributes_node.csv.gz' (HEADER, DELIMITER ';', COMPRESSION 'gzip');\n",
      "SQL statement is COPY (SELECT * FROM main_imdb_kuzu.characters_edge) TO 'C:/work/imdb_graphdb_article/neo4j_version/export_elt/characters_edge.csv.gz' (HEADER, DELIMITER ';', COMPRESSION 'gzip');\n",
      "SQL statement is COPY (SELECT * FROM main_imdb_kuzu.characters_node) TO 'C:/work/imdb_graphdb_article/neo4j_version/export_elt/characters_node.csv.gz' (HEADER, DELIMITER ';', COMPRESSION 'gzip');\n",
      "SQL statement is COPY (SELECT * FROM main_imdb_kuzu.directors_edge) TO 'C:/work/imdb_graphdb_article/neo4j_version/export_elt/directors_edge.csv.gz' (HEADER, DELIMITER ';', COMPRESSION 'gzip');\n",
      "SQL statement is COPY (SELECT * FROM main_imdb_kuzu.distribution_types_edge) TO 'C:/work/imdb_graphdb_article/neo4j_version/export_elt/distribution_types_edge.csv.gz' (HEADER, DELIMITER ';', COMPRESSION 'gzip');\n",
      "SQL statement is COPY (SELECT * FROM main_imdb_kuzu.genre_edge) TO 'C:/work/imdb_graphdb_article/neo4j_version/export_elt/genre_edge.csv.gz' (HEADER, DELIMITER ';', COMPRESSION 'gzip');\n",
      "SQL statement is COPY (SELECT * FROM main_imdb_kuzu.genre_node) TO 'C:/work/imdb_graphdb_article/neo4j_version/export_elt/genre_node.csv.gz' (HEADER, DELIMITER ';', COMPRESSION 'gzip');\n",
      "SQL statement is COPY (SELECT * FROM main_imdb_kuzu.job_category_edge) TO 'C:/work/imdb_graphdb_article/neo4j_version/export_elt/job_category_edge.csv.gz' (HEADER, DELIMITER ';', COMPRESSION 'gzip');\n",
      "SQL statement is COPY (SELECT * FROM main_imdb_kuzu.job_category_node) TO 'C:/work/imdb_graphdb_article/neo4j_version/export_elt/job_category_node.csv.gz' (HEADER, DELIMITER ';', COMPRESSION 'gzip');\n",
      "SQL statement is COPY (SELECT * FROM main_imdb_kuzu.knownfor_edge) TO 'C:/work/imdb_graphdb_article/neo4j_version/export_elt/knownfor_edge.csv.gz' (HEADER, DELIMITER ';', COMPRESSION 'gzip');\n",
      "SQL statement is COPY (SELECT * FROM main_imdb_kuzu.language_edge) TO 'C:/work/imdb_graphdb_article/neo4j_version/export_elt/language_edge.csv.gz' (HEADER, DELIMITER ';', COMPRESSION 'gzip');\n",
      "SQL statement is COPY (SELECT * FROM main_imdb_kuzu.name_basics_node) TO 'C:/work/imdb_graphdb_article/neo4j_version/export_elt/name_basics_node.csv.gz' (HEADER, DELIMITER ';', COMPRESSION 'gzip');\n",
      "SQL statement is COPY (SELECT * FROM main_imdb_kuzu.name_edge) TO 'C:/work/imdb_graphdb_article/neo4j_version/export_elt/name_edge.csv.gz' (HEADER, DELIMITER ';', COMPRESSION 'gzip');\n",
      "SQL statement is COPY (SELECT * FROM main_imdb_kuzu.original_title_edge) TO 'C:/work/imdb_graphdb_article/neo4j_version/export_elt/original_title_edge.csv.gz' (HEADER, DELIMITER ';', COMPRESSION 'gzip');\n",
      "SQL statement is COPY (SELECT * FROM main_imdb_kuzu.parent_title_edge) TO 'C:/work/imdb_graphdb_article/neo4j_version/export_elt/parent_title_edge.csv.gz' (HEADER, DELIMITER ';', COMPRESSION 'gzip');\n",
      "SQL statement is COPY (SELECT * FROM main_imdb_kuzu.primaryprofession_edge) TO 'C:/work/imdb_graphdb_article/neo4j_version/export_elt/primaryprofession_edge.csv.gz' (HEADER, DELIMITER ';', COMPRESSION 'gzip');\n",
      "SQL statement is COPY (SELECT * FROM main_imdb_kuzu.primaryprofession_node) TO 'C:/work/imdb_graphdb_article/neo4j_version/export_elt/primaryprofession_node.csv.gz' (HEADER, DELIMITER ';', COMPRESSION 'gzip');\n",
      "SQL statement is COPY (SELECT * FROM main_imdb_kuzu.rate_edge) TO 'C:/work/imdb_graphdb_article/neo4j_version/export_elt/rate_edge.csv.gz' (HEADER, DELIMITER ';', COMPRESSION 'gzip');\n",
      "SQL statement is COPY (SELECT * FROM main_imdb_kuzu.region_edge) TO 'C:/work/imdb_graphdb_article/neo4j_version/export_elt/region_edge.csv.gz' (HEADER, DELIMITER ';', COMPRESSION 'gzip');\n",
      "SQL statement is COPY (SELECT * FROM main_imdb_kuzu.title_akas_cleansed_node) TO 'C:/work/imdb_graphdb_article/neo4j_version/export_elt/title_akas_cleansed_node.csv.gz' (HEADER, DELIMITER ';', COMPRESSION 'gzip');\n",
      "SQL statement is COPY (SELECT * FROM main_imdb_kuzu.title_basics_node) TO 'C:/work/imdb_graphdb_article/neo4j_version/export_elt/title_basics_node.csv.gz' (HEADER, DELIMITER ';', COMPRESSION 'gzip');\n",
      "SQL statement is COPY (SELECT * FROM main_imdb_kuzu.title_edge) TO 'C:/work/imdb_graphdb_article/neo4j_version/export_elt/title_edge.csv.gz' (HEADER, DELIMITER ';', COMPRESSION 'gzip');\n",
      "SQL statement is COPY (SELECT * FROM main_imdb_kuzu.title_episode_node) TO 'C:/work/imdb_graphdb_article/neo4j_version/export_elt/title_episode_node.csv.gz' (HEADER, DELIMITER ';', COMPRESSION 'gzip');\n",
      "SQL statement is COPY (SELECT * FROM main_imdb_kuzu.title_principals_cleansed_node) TO 'C:/work/imdb_graphdb_article/neo4j_version/export_elt/title_principals_cleansed_node.csv.gz' (HEADER, DELIMITER ';', COMPRESSION 'gzip');\n",
      "SQL statement is COPY (SELECT * FROM main_imdb_kuzu.title_ratings_node) TO 'C:/work/imdb_graphdb_article/neo4j_version/export_elt/title_ratings_node.csv.gz' (HEADER, DELIMITER ';', COMPRESSION 'gzip');\n",
      "SQL statement is COPY (SELECT * FROM main_imdb_kuzu.title_type_edge) TO 'C:/work/imdb_graphdb_article/neo4j_version/export_elt/title_type_edge.csv.gz' (HEADER, DELIMITER ';', COMPRESSION 'gzip');\n",
      "SQL statement is COPY (SELECT * FROM main_imdb_kuzu.title_type_node) TO 'C:/work/imdb_graphdb_article/neo4j_version/export_elt/title_type_node.csv.gz' (HEADER, DELIMITER ';', COMPRESSION 'gzip');\n",
      "SQL statement is COPY (SELECT * FROM main_imdb_kuzu.works_edge) TO 'C:/work/imdb_graphdb_article/neo4j_version/export_elt/works_edge.csv.gz' (HEADER, DELIMITER ';', COMPRESSION 'gzip');\n",
      "SQL statement is COPY (SELECT * FROM main_imdb_kuzu.writers_edge) TO 'C:/work/imdb_graphdb_article/neo4j_version/export_elt/writers_edge.csv.gz' (HEADER, DELIMITER ';', COMPRESSION 'gzip');\n"
     ]
    }
   ],
   "source": [
    "import duckdb\n",
    "con = duckdb.connect(\"C:/work/imdb_dataset_article/database_files/dev.duckdb\")\n",
    "\n",
    "p = pathlib.Path('export_elt')\n",
    "p.mkdir(exist_ok=True)\n",
    "\n",
    "for parquet_file in p.glob('*.parquet'):\n",
    "    print(parquet_file)\n",
    "    parquet_file.unlink()\n",
    "\n",
    "for sql_statement in sql_statements:\n",
    "    print(f\"SQL statement is {sql_statement}\")\n",
    "    con.sql(sql_statement)\n",
    "\n",
    "con.close()"
   ]
  }
 ],
 "metadata": {
  "kernelspec": {
   "display_name": "Python 3 (ipykernel)",
   "language": "python",
   "name": "python3"
  },
  "language_info": {
   "codemirror_mode": {
    "name": "ipython",
    "version": 3
   },
   "file_extension": ".py",
   "mimetype": "text/x-python",
   "name": "python",
   "nbconvert_exporter": "python",
   "pygments_lexer": "ipython3",
   "version": "3.12.4"
  }
 },
 "nbformat": 4,
 "nbformat_minor": 5
}
