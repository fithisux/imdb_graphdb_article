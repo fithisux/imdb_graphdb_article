{
 "cells": [
  {
   "cell_type": "code",
   "execution_count": 3,
   "id": "54ab3177-47bb-4a7a-bbf8-fe7e8ff68f41",
   "metadata": {},
   "outputs": [
    {
     "name": "stdout",
     "output_type": "stream",
     "text": [
      "Processing elt_cypher_queries/cleanup.cypher\n",
      "{}\n",
      "Processing elt_cypher_queries/load_genres.cypher\n",
      "{'_contains_updates': True, 'labels_added': 28, 'nodes_created': 28, 'properties_set': 28}\n",
      "Processing elt_cypher_queries/load_region_codes.cypher\n",
      "{'_contains_updates': True, 'labels_added': 249, 'nodes_created': 249, 'properties_set': 498}\n",
      "Processing elt_cypher_queries/load_language_codes.cypher\n",
      "{'_contains_updates': True, 'labels_added': 184, 'nodes_created': 184, 'properties_set': 368}\n",
      "Processing elt_cypher_queries/load_distribution_types.cypher\n",
      "{'_contains_updates': True, 'labels_added': 8, 'nodes_created': 8, 'properties_set': 8}\n",
      "Processing elt_cypher_queries/load_title_types.cypher\n",
      "{'_contains_updates': True, 'labels_added': 11, 'nodes_created': 11, 'properties_set': 11}\n",
      "Processing elt_cypher_queries/load_job_categories.cypher\n",
      "{'_contains_updates': True, 'labels_added': 12, 'nodes_created': 12, 'properties_set': 12}\n",
      "Processing elt_cypher_queries/load_name_basics_node.cypher\n",
      "{'_contains_updates': True, 'labels_added': 13245721, 'nodes_created': 13245721, 'properties_set': 27321972}\n",
      "Processing elt_cypher_queries/load_attributes_node.cypher\n",
      "{'_contains_updates': True, 'labels_added': 165, 'nodes_created': 165, 'properties_set': 165}\n",
      "Processing elt_cypher_queries/load_title_akas_cleansed_node.cypher\n",
      "{'_contains_updates': True, 'labels_added': 38710605, 'nodes_created': 38710605, 'properties_set': 154842420}\n",
      "Processing elt_cypher_queries/load_title_basics_node.cypher\n",
      "{'_contains_updates': True, 'labels_added': 10544472, 'nodes_created': 10544472, 'properties_set': 54674610}\n",
      "Processing elt_cypher_queries/load_title_episode_node.cypher\n",
      "{'_contains_updates': True, 'labels_added': 8061550, 'nodes_created': 8061550, 'properties_set': 6424396}\n",
      "Processing elt_cypher_queries/load_title_principals_cleansed_node.cypher\n",
      "{'_contains_updates': True, 'labels_added': 60435073, 'nodes_created': 60435073, 'properties_set': 251643398}\n",
      "Processing elt_cypher_queries/load_title_ratings_node.cypher\n",
      "{'_contains_updates': True, 'labels_added': 1401842, 'nodes_created': 1401842, 'properties_set': 4205526}\n"
     ]
    }
   ],
   "source": [
    "from neo4j import GraphDatabase\n",
    "\n",
    "class IMDBELTLoader:\n",
    "\n",
    "    def __init__(self, uri, user, password):\n",
    "        self.driver = GraphDatabase.driver(uri, auth=(user, password))\n",
    "\n",
    "    def close(self):\n",
    "        self.driver.close()\n",
    "\n",
    "    def execute_query(self, query, params_dict={}):\n",
    "        with self.driver.session(database=\"neo4j\") as session:\n",
    "            result = session.run(query, **params_dict)\n",
    "            print(result.consume().counters)\n",
    "\n",
    "\n",
    "file_list = [\n",
    "\"elt_cypher_queries/cleanup.cypher\",\n",
    "\"elt_cypher_queries/load_genres.cypher\",\n",
    "\"elt_cypher_queries/load_region_codes.cypher\",\n",
    "\"elt_cypher_queries/load_language_codes.cypher\",\n",
    "\"elt_cypher_queries/load_distribution_types.cypher\",\n",
    "\"elt_cypher_queries/load_title_types.cypher\",\n",
    "\"elt_cypher_queries/load_job_categories.cypher\",\n",
    "\"elt_cypher_queries/load_name_basics_node.cypher\",\n",
    "\"elt_cypher_queries/load_attributes_node.cypher\",\n",
    "\"elt_cypher_queries/load_title_akas_cleansed_node.cypher\",\n",
    "\"elt_cypher_queries/load_title_basics_node.cypher\",\n",
    "\"elt_cypher_queries/load_title_episode_node.cypher\",\n",
    "\"elt_cypher_queries/load_title_principals_cleansed_node.cypher\",\n",
    "\"elt_cypher_queries/load_title_ratings_node.cypher\"\n",
    "]\n",
    "\n",
    "\n",
    "if __name__ == \"__main__\":\n",
    "    for query_file in file_list:\n",
    "        print(f\"Processing {query_file}\")\n",
    "        with open(query_file) as f:\n",
    "            query = f.read()\n",
    "           \n",
    "        loader = IMDBELTLoader(\"bolt://localhost:7687\", \"neo4j\", \"pass1234\")\n",
    "        loader.execute_query(query)\n",
    "        loader.close()"
   ]
  },
  {
   "cell_type": "code",
   "execution_count": null,
   "id": "b1d612c2-1e05-4752-a766-0c6fb61b0eee",
   "metadata": {},
   "outputs": [],
   "source": []
  }
 ],
 "metadata": {
  "kernelspec": {
   "display_name": "Python 3 (ipykernel)",
   "language": "python",
   "name": "python3"
  },
  "language_info": {
   "codemirror_mode": {
    "name": "ipython",
    "version": 3
   },
   "file_extension": ".py",
   "mimetype": "text/x-python",
   "name": "python",
   "nbconvert_exporter": "python",
   "pygments_lexer": "ipython3",
   "version": "3.11.8"
  }
 },
 "nbformat": 4,
 "nbformat_minor": 5
}
